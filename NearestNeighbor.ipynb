{
  "nbformat": 4,
  "nbformat_minor": 0,
  "metadata": {
    "colab": {
      "name": "NearestNeighbor.ipynb",
      "provenance": [],
      "authorship_tag": "ABX9TyN00jqeCkaKfCsc4OHO6yRS",
      "include_colab_link": true
    },
    "kernelspec": {
      "name": "python3",
      "display_name": "Python 3"
    },
    "language_info": {
      "name": "python"
    }
  },
  "cells": [
    {
      "cell_type": "markdown",
      "metadata": {
        "id": "view-in-github",
        "colab_type": "text"
      },
      "source": [
        "<a href=\"https://colab.research.google.com/github/abyanjan/Recommender-Systems-with-Python/blob/master/NearestNeighbor.ipynb\" target=\"_parent\"><img src=\"https://colab.research.google.com/assets/colab-badge.svg\" alt=\"Open In Colab\"/></a>"
      ]
    },
    {
      "cell_type": "markdown",
      "metadata": {
        "id": "DeioOPArUzgp"
      },
      "source": [
        "## Recommending Products Based on Nearest Neighbors Model"
      ]
    },
    {
      "cell_type": "markdown",
      "metadata": {
        "id": "zCEWKM9ro8D1"
      },
      "source": [
        "**Book Recommendation**"
      ]
    },
    {
      "cell_type": "code",
      "metadata": {
        "colab": {
          "base_uri": "https://localhost:8080/"
        },
        "id": "LzCaN8W8KXXb",
        "outputId": "f93bf4c8-d4e8-4077-aa49-6566af61e760"
      },
      "source": [
        "!pip install -q surprise"
      ],
      "execution_count": 1,
      "outputs": [
        {
          "output_type": "stream",
          "text": [
            "\u001b[K     |████████████████████████████████| 11.8MB 342kB/s \n",
            "\u001b[?25h  Building wheel for scikit-surprise (setup.py) ... \u001b[?25l\u001b[?25hdone\n"
          ],
          "name": "stdout"
        }
      ]
    },
    {
      "cell_type": "markdown",
      "metadata": {
        "id": "ZK6L09nJWa6F"
      },
      "source": [
        "### Data"
      ]
    },
    {
      "cell_type": "markdown",
      "metadata": {
        "id": "gX0cnU58pChj"
      },
      "source": [
        "The data used here is the book-crossing dataset available at http://www2.informatik.uni-freiburg.de/~cziegler/BX/"
      ]
    },
    {
      "cell_type": "code",
      "metadata": {
        "colab": {
          "base_uri": "https://localhost:8080/"
        },
        "id": "8MgE4U2LUgfr",
        "outputId": "cdc8f044-fa32-4d66-cfbc-cc89bf7777b0"
      },
      "source": [
        "# downloading the data\n",
        "!wget http://www2.informatik.uni-freiburg.de/~cziegler/BX/BX-CSV-Dump.zip"
      ],
      "execution_count": 2,
      "outputs": [
        {
          "output_type": "stream",
          "text": [
            "--2021-03-26 09:16:01--  http://www2.informatik.uni-freiburg.de/~cziegler/BX/BX-CSV-Dump.zip\n",
            "Resolving www2.informatik.uni-freiburg.de (www2.informatik.uni-freiburg.de)... 132.230.105.133\n",
            "Connecting to www2.informatik.uni-freiburg.de (www2.informatik.uni-freiburg.de)|132.230.105.133|:80... connected.\n",
            "HTTP request sent, awaiting response... 200 OK\n",
            "Length: 26085508 (25M) [application/zip]\n",
            "Saving to: ‘BX-CSV-Dump.zip’\n",
            "\n",
            "BX-CSV-Dump.zip     100%[===================>]  24.88M  16.1MB/s    in 1.5s    \n",
            "\n",
            "2021-03-26 09:16:03 (16.1 MB/s) - ‘BX-CSV-Dump.zip’ saved [26085508/26085508]\n",
            "\n"
          ],
          "name": "stdout"
        }
      ]
    },
    {
      "cell_type": "code",
      "metadata": {
        "id": "4V8AKAjSV7ig"
      },
      "source": [
        "# unzipping the data\n",
        "import zipfile\n",
        "with zipfile.ZipFile('BX-CSV-Dump.zip', 'r') as zip_ref:\n",
        "    zip_ref.extractall('data')"
      ],
      "execution_count": 3,
      "outputs": []
    },
    {
      "cell_type": "code",
      "metadata": {
        "colab": {
          "base_uri": "https://localhost:8080/"
        },
        "id": "fwQQhWPNWtHi",
        "outputId": "d3823310-d6ee-4c0f-9525-9c6a01f011e3"
      },
      "source": [
        "# check the list of data files\n",
        "%ls 'data'"
      ],
      "execution_count": 4,
      "outputs": [
        {
          "output_type": "stream",
          "text": [
            "BX-Book-Ratings.csv  BX-Books.csv  BX-Users.csv\n"
          ],
          "name": "stdout"
        }
      ]
    },
    {
      "cell_type": "markdown",
      "metadata": {
        "id": "T77QLNWGpzyJ"
      },
      "source": [
        "The dataset contains three files\n",
        "- BX-Users: contains information on users including demographic data if available\n",
        "- BX-Books : contains information on books identified their 'isbn' number and data on 'Book-Title', 'Book-Author', 'Year-Of-Publication', 'Publisher'\n",
        "- BX-Book-Ratings : contains the book rating information, ratings for the books are in a scale from 1-10 (higher values denoting higher appreciation)"
      ]
    },
    {
      "cell_type": "code",
      "metadata": {
        "id": "dHdo0xBVpzNM"
      },
      "source": [
        ""
      ],
      "execution_count": null,
      "outputs": []
    },
    {
      "cell_type": "code",
      "metadata": {
        "id": "Q4UP4b8EWZke"
      },
      "source": [
        "import pandas as pd\n",
        "import numpy as np\n",
        "import scipy"
      ],
      "execution_count": 5,
      "outputs": []
    },
    {
      "cell_type": "code",
      "metadata": {
        "colab": {
          "base_uri": "https://localhost:8080/",
          "height": 202
        },
        "id": "YAMpcE_QWo7O",
        "outputId": "a350d8ef-7f42-4eab-f91c-90a4ebe7dc90"
      },
      "source": [
        "# reading ratings data\n",
        "data = pd.read_csv(\"data/BX-Book-Ratings.csv\", sep=';', header=0, names=['user','isbn','rating'],encoding='latin-1')\n",
        "data.head()"
      ],
      "execution_count": 6,
      "outputs": [
        {
          "output_type": "execute_result",
          "data": {
            "text/html": [
              "<div>\n",
              "<style scoped>\n",
              "    .dataframe tbody tr th:only-of-type {\n",
              "        vertical-align: middle;\n",
              "    }\n",
              "\n",
              "    .dataframe tbody tr th {\n",
              "        vertical-align: top;\n",
              "    }\n",
              "\n",
              "    .dataframe thead th {\n",
              "        text-align: right;\n",
              "    }\n",
              "</style>\n",
              "<table border=\"1\" class=\"dataframe\">\n",
              "  <thead>\n",
              "    <tr style=\"text-align: right;\">\n",
              "      <th></th>\n",
              "      <th>user</th>\n",
              "      <th>isbn</th>\n",
              "      <th>rating</th>\n",
              "    </tr>\n",
              "  </thead>\n",
              "  <tbody>\n",
              "    <tr>\n",
              "      <th>0</th>\n",
              "      <td>276725</td>\n",
              "      <td>034545104X</td>\n",
              "      <td>0</td>\n",
              "    </tr>\n",
              "    <tr>\n",
              "      <th>1</th>\n",
              "      <td>276726</td>\n",
              "      <td>0155061224</td>\n",
              "      <td>5</td>\n",
              "    </tr>\n",
              "    <tr>\n",
              "      <th>2</th>\n",
              "      <td>276727</td>\n",
              "      <td>0446520802</td>\n",
              "      <td>0</td>\n",
              "    </tr>\n",
              "    <tr>\n",
              "      <th>3</th>\n",
              "      <td>276729</td>\n",
              "      <td>052165615X</td>\n",
              "      <td>3</td>\n",
              "    </tr>\n",
              "    <tr>\n",
              "      <th>4</th>\n",
              "      <td>276729</td>\n",
              "      <td>0521795028</td>\n",
              "      <td>6</td>\n",
              "    </tr>\n",
              "  </tbody>\n",
              "</table>\n",
              "</div>"
            ],
            "text/plain": [
              "     user        isbn  rating\n",
              "0  276725  034545104X       0\n",
              "1  276726  0155061224       5\n",
              "2  276727  0446520802       0\n",
              "3  276729  052165615X       3\n",
              "4  276729  0521795028       6"
            ]
          },
          "metadata": {
            "tags": []
          },
          "execution_count": 6
        }
      ]
    },
    {
      "cell_type": "code",
      "metadata": {
        "colab": {
          "base_uri": "https://localhost:8080/",
          "height": 233
        },
        "id": "WP1rFydsXTQf",
        "outputId": "01742c82-e706-4f05-a9c0-a7c500c25425"
      },
      "source": [
        "# reading books data\n",
        "books = pd.read_csv(\"data/BX-Books.csv\", sep=';', header=0,error_bad_lines=False, usecols=[0,1,2],index_col=0,\n",
        "                   names=['isbn','title','author'],encoding='latin-1')\n",
        "books.head()"
      ],
      "execution_count": 7,
      "outputs": [
        {
          "output_type": "execute_result",
          "data": {
            "text/html": [
              "<div>\n",
              "<style scoped>\n",
              "    .dataframe tbody tr th:only-of-type {\n",
              "        vertical-align: middle;\n",
              "    }\n",
              "\n",
              "    .dataframe tbody tr th {\n",
              "        vertical-align: top;\n",
              "    }\n",
              "\n",
              "    .dataframe thead th {\n",
              "        text-align: right;\n",
              "    }\n",
              "</style>\n",
              "<table border=\"1\" class=\"dataframe\">\n",
              "  <thead>\n",
              "    <tr style=\"text-align: right;\">\n",
              "      <th></th>\n",
              "      <th>title</th>\n",
              "      <th>author</th>\n",
              "    </tr>\n",
              "    <tr>\n",
              "      <th>isbn</th>\n",
              "      <th></th>\n",
              "      <th></th>\n",
              "    </tr>\n",
              "  </thead>\n",
              "  <tbody>\n",
              "    <tr>\n",
              "      <th>0195153448</th>\n",
              "      <td>Classical Mythology</td>\n",
              "      <td>Mark P. O. Morford</td>\n",
              "    </tr>\n",
              "    <tr>\n",
              "      <th>0002005018</th>\n",
              "      <td>Clara Callan</td>\n",
              "      <td>Richard Bruce Wright</td>\n",
              "    </tr>\n",
              "    <tr>\n",
              "      <th>0060973129</th>\n",
              "      <td>Decision in Normandy</td>\n",
              "      <td>Carlo D'Este</td>\n",
              "    </tr>\n",
              "    <tr>\n",
              "      <th>0374157065</th>\n",
              "      <td>Flu: The Story of the Great Influenza Pandemic...</td>\n",
              "      <td>Gina Bari Kolata</td>\n",
              "    </tr>\n",
              "    <tr>\n",
              "      <th>0393045218</th>\n",
              "      <td>The Mummies of Urumchi</td>\n",
              "      <td>E. J. W. Barber</td>\n",
              "    </tr>\n",
              "  </tbody>\n",
              "</table>\n",
              "</div>"
            ],
            "text/plain": [
              "                                                        title                author\n",
              "isbn                                                                               \n",
              "0195153448                                Classical Mythology    Mark P. O. Morford\n",
              "0002005018                                       Clara Callan  Richard Bruce Wright\n",
              "0060973129                               Decision in Normandy          Carlo D'Este\n",
              "0374157065  Flu: The Story of the Great Influenza Pandemic...      Gina Bari Kolata\n",
              "0393045218                             The Mummies of Urumchi       E. J. W. Barber"
            ]
          },
          "metadata": {
            "tags": []
          },
          "execution_count": 7
        }
      ]
    },
    {
      "cell_type": "code",
      "metadata": {
        "id": "IeMEAgp4Y5Th"
      },
      "source": [
        "# setting up a function to get metadata on any book by its isbn number\n",
        "def bookMeta(isbn):\n",
        "  title = books.loc[isbn,'title']\n",
        "  author = books.loc[isbn,'author']\n",
        "  return title, author"
      ],
      "execution_count": 8,
      "outputs": []
    },
    {
      "cell_type": "code",
      "metadata": {
        "colab": {
          "base_uri": "https://localhost:8080/"
        },
        "id": "RHhdpzTeZiwo",
        "outputId": "acfa7331-3ace-40ff-9644-df5ae62bfbea"
      },
      "source": [
        "# testing the bookMeta function\n",
        "bookMeta('0195153448')"
      ],
      "execution_count": 9,
      "outputs": [
        {
          "output_type": "execute_result",
          "data": {
            "text/plain": [
              "('Classical Mythology', 'Mark P. O. Morford')"
            ]
          },
          "metadata": {
            "tags": []
          },
          "execution_count": 9
        }
      ]
    },
    {
      "cell_type": "code",
      "metadata": {
        "id": "LdPDk0pQZ0BL"
      },
      "source": [
        "# setting a function to get top N favourite books for a user\n",
        "def favBooks(user, N):\n",
        "  # filtering out ratings for the specified user only\n",
        "  userdata = data[data['user'] == user]\n",
        "  # sorting the data by descending order of the ratings and only selecting top N rated books\n",
        "  sorted_ratings = userdata.sort_values('rating', ascending =False)[:N]\n",
        "  # adding book meta data\n",
        "  sorted_ratings['title'] = sorted_ratings['isbn'].apply(bookMeta)\n",
        "  return sorted_ratings"
      ],
      "execution_count": 11,
      "outputs": []
    },
    {
      "cell_type": "markdown",
      "metadata": {
        "id": "m19Dr8s6rKmS"
      },
      "source": [
        "There may be ratings given to books that we may not have information about in the books data. So, we will make sure that the ratings data only contains the books that we have information about."
      ]
    },
    {
      "cell_type": "code",
      "metadata": {
        "id": "Z2yaI6odZz-f"
      },
      "source": [
        "# making sure that we only have the ratings for the books that we have information about, that is stored in books dataframe\n",
        "data = data[data['isbn'].isin(books.index)]"
      ],
      "execution_count": 12,
      "outputs": []
    },
    {
      "cell_type": "code",
      "metadata": {
        "colab": {
          "base_uri": "https://localhost:8080/",
          "height": 202
        },
        "id": "HI_1mQfxbxMh",
        "outputId": "5730b766-cd5b-440e-9d76-6af8efa494db"
      },
      "source": [
        "# checking favBooks function\n",
        "favBooks(204622,5)"
      ],
      "execution_count": 13,
      "outputs": [
        {
          "output_type": "execute_result",
          "data": {
            "text/html": [
              "<div>\n",
              "<style scoped>\n",
              "    .dataframe tbody tr th:only-of-type {\n",
              "        vertical-align: middle;\n",
              "    }\n",
              "\n",
              "    .dataframe tbody tr th {\n",
              "        vertical-align: top;\n",
              "    }\n",
              "\n",
              "    .dataframe thead th {\n",
              "        text-align: right;\n",
              "    }\n",
              "</style>\n",
              "<table border=\"1\" class=\"dataframe\">\n",
              "  <thead>\n",
              "    <tr style=\"text-align: right;\">\n",
              "      <th></th>\n",
              "      <th>user</th>\n",
              "      <th>isbn</th>\n",
              "      <th>rating</th>\n",
              "      <th>title</th>\n",
              "    </tr>\n",
              "  </thead>\n",
              "  <tbody>\n",
              "    <tr>\n",
              "      <th>844955</th>\n",
              "      <td>204622</td>\n",
              "      <td>0967560500</td>\n",
              "      <td>10</td>\n",
              "      <td>(Natural Hormonal Enhancement, Rob Faigin)</td>\n",
              "    </tr>\n",
              "    <tr>\n",
              "      <th>844935</th>\n",
              "      <td>204622</td>\n",
              "      <td>0671027360</td>\n",
              "      <td>10</td>\n",
              "      <td>(Angels &amp;amp; Demons, Dan Brown)</td>\n",
              "    </tr>\n",
              "    <tr>\n",
              "      <th>844926</th>\n",
              "      <td>204622</td>\n",
              "      <td>0385504209</td>\n",
              "      <td>10</td>\n",
              "      <td>(The Da Vinci Code, Dan Brown)</td>\n",
              "    </tr>\n",
              "    <tr>\n",
              "      <th>844958</th>\n",
              "      <td>204622</td>\n",
              "      <td>097173660X</td>\n",
              "      <td>9</td>\n",
              "      <td>(Life After School Explained, Cap &amp;amp; Compass)</td>\n",
              "    </tr>\n",
              "    <tr>\n",
              "      <th>844920</th>\n",
              "      <td>204622</td>\n",
              "      <td>0060935464</td>\n",
              "      <td>9</td>\n",
              "      <td>(To Kill a Mockingbird, Harper Lee)</td>\n",
              "    </tr>\n",
              "  </tbody>\n",
              "</table>\n",
              "</div>"
            ],
            "text/plain": [
              "          user  ...                                             title\n",
              "844955  204622  ...        (Natural Hormonal Enhancement, Rob Faigin)\n",
              "844935  204622  ...                  (Angels &amp; Demons, Dan Brown)\n",
              "844926  204622  ...                    (The Da Vinci Code, Dan Brown)\n",
              "844958  204622  ...  (Life After School Explained, Cap &amp; Compass)\n",
              "844920  204622  ...               (To Kill a Mockingbird, Harper Lee)\n",
              "\n",
              "[5 rows x 4 columns]"
            ]
          },
          "metadata": {
            "tags": []
          },
          "execution_count": 13
        }
      ]
    },
    {
      "cell_type": "markdown",
      "metadata": {
        "id": "p9wYurOSrmxB"
      },
      "source": [
        "### Ratings Matrix"
      ]
    },
    {
      "cell_type": "markdown",
      "metadata": {
        "id": "CywNMsI3rl-B"
      },
      "source": [
        "Here, we will construct a rating matris that will have users as the rows and books as columns and the values will be fille by the corressponding ratings. So, it will hold the ratings given by a user to a book."
      ]
    },
    {
      "cell_type": "markdown",
      "metadata": {
        "id": "3znVMBRLsLkb"
      },
      "source": [
        "Before constructing the rating matrix, we can check the number of unique books and users in our data."
      ]
    },
    {
      "cell_type": "code",
      "metadata": {
        "colab": {
          "base_uri": "https://localhost:8080/"
        },
        "id": "id-h_O_gfJIB",
        "outputId": "def0b1e0-0f65-44ab-f217-80e8dab4bcae"
      },
      "source": [
        "# number of users per isbn - unique books\n",
        "user_per_ISBN = data.isbn.value_counts()\n",
        "print(f'Number of unique isbn: {len(user_per_ISBN)}')\n",
        "print()\n",
        "user_per_ISBN.head(10)"
      ],
      "execution_count": 14,
      "outputs": [
        {
          "output_type": "stream",
          "text": [
            "Number of unique isbn: 270170\n",
            "\n"
          ],
          "name": "stdout"
        },
        {
          "output_type": "execute_result",
          "data": {
            "text/plain": [
              "0971880107    2502\n",
              "0316666343    1295\n",
              "0385504209     883\n",
              "0060928336     732\n",
              "0312195516     723\n",
              "044023722X     647\n",
              "0142001740     615\n",
              "067976402X     614\n",
              "0671027360     586\n",
              "0446672211     585\n",
              "Name: isbn, dtype: int64"
            ]
          },
          "metadata": {
            "tags": []
          },
          "execution_count": 14
        }
      ]
    },
    {
      "cell_type": "code",
      "metadata": {
        "colab": {
          "base_uri": "https://localhost:8080/"
        },
        "id": "vx_UkHu2frcV",
        "outputId": "b678a2de-0d8f-46e3-fb38-7d6f68610b2a"
      },
      "source": [
        "# number of books users have read - unique number of users\n",
        "ISBN_per_user = data.user.value_counts()\n",
        "print(f'Number of unique users: {len(ISBN_per_user)}')\n",
        "print()\n",
        "ISBN_per_user.head(10)"
      ],
      "execution_count": 15,
      "outputs": [
        {
          "output_type": "stream",
          "text": [
            "Number of unique users: 92107\n",
            "\n"
          ],
          "name": "stdout"
        },
        {
          "output_type": "execute_result",
          "data": {
            "text/plain": [
              "11676     11144\n",
              "198711     6456\n",
              "153662     5814\n",
              "98391      5779\n",
              "35859      5646\n",
              "212898     4290\n",
              "278418     3996\n",
              "76352      3329\n",
              "110973     2971\n",
              "235105     2943\n",
              "Name: user, dtype: int64"
            ]
          },
          "metadata": {
            "tags": []
          },
          "execution_count": 15
        }
      ]
    },
    {
      "cell_type": "markdown",
      "metadata": {
        "id": "XbcX3aeBslM8"
      },
      "source": [
        "Here, we have 92017 unique users and 270170 unique books. So, with this information our ratings matrix will be of size 92017 x 270170. Not only our rating matrix be big, but it will also be very sparse because all the users may not have rated all the books and many books may be missing ratings.  \n",
        "\n",
        "So, to reduce the sparsity, we will keep only books that have been rated by more than 10 users and users who have read more than 10 books"
      ]
    },
    {
      "cell_type": "code",
      "metadata": {
        "id": "lGU12gGrgTwZ"
      },
      "source": [
        "# only select books with more tha 1o ratings\n",
        "data = data[data['isbn'].isin(user_per_ISBN[user_per_ISBN > 10].index)]\n",
        "\n",
        "# only select users with more than 10 book reads\n",
        "data = data[data['user'].isin(ISBN_per_user[ISBN_per_user > 10].index)]"
      ],
      "execution_count": 16,
      "outputs": []
    },
    {
      "cell_type": "code",
      "metadata": {
        "colab": {
          "base_uri": "https://localhost:8080/"
        },
        "id": "zHt_nPZehJQ1",
        "outputId": "93a4b0ee-d1e5-4ceb-dc16-a23acfa043d8"
      },
      "source": [
        "data.shape"
      ],
      "execution_count": 17,
      "outputs": [
        {
          "output_type": "execute_result",
          "data": {
            "text/plain": [
              "(405709, 3)"
            ]
          },
          "metadata": {
            "tags": []
          },
          "execution_count": 17
        }
      ]
    },
    {
      "cell_type": "code",
      "metadata": {
        "colab": {
          "base_uri": "https://localhost:8080/",
          "height": 282
        },
        "id": "320FQC5phJLj",
        "outputId": "52bc51f9-56b2-4006-e411-8802237a2f63"
      },
      "source": [
        "# creating the rating matrix\n",
        "user_item_rating_matrix = pd.pivot_table(data, values='rating',index=['user'], columns=['isbn'])\n",
        "user_item_rating_matrix.head()"
      ],
      "execution_count": 18,
      "outputs": [
        {
          "output_type": "execute_result",
          "data": {
            "text/html": [
              "<div>\n",
              "<style scoped>\n",
              "    .dataframe tbody tr th:only-of-type {\n",
              "        vertical-align: middle;\n",
              "    }\n",
              "\n",
              "    .dataframe tbody tr th {\n",
              "        vertical-align: top;\n",
              "    }\n",
              "\n",
              "    .dataframe thead th {\n",
              "        text-align: right;\n",
              "    }\n",
              "</style>\n",
              "<table border=\"1\" class=\"dataframe\">\n",
              "  <thead>\n",
              "    <tr style=\"text-align: right;\">\n",
              "      <th>isbn</th>\n",
              "      <th>0002005018</th>\n",
              "      <th>0002251760</th>\n",
              "      <th>0002259834</th>\n",
              "      <th>0002558122</th>\n",
              "      <th>0006480764</th>\n",
              "      <th>000648302X</th>\n",
              "      <th>0006485200</th>\n",
              "      <th>000649840X</th>\n",
              "      <th>000651202X</th>\n",
              "      <th>0006512062</th>\n",
              "      <th>0006543545</th>\n",
              "      <th>0006546684</th>\n",
              "      <th>0006547834</th>\n",
              "      <th>0006550576</th>\n",
              "      <th>0006550649</th>\n",
              "      <th>0006550789</th>\n",
              "      <th>0006550924</th>\n",
              "      <th>0007106572</th>\n",
              "      <th>0007110928</th>\n",
              "      <th>0007122039</th>\n",
              "      <th>0007141076</th>\n",
              "      <th>0007154615</th>\n",
              "      <th>000716226X</th>\n",
              "      <th>0007170866</th>\n",
              "      <th>0020125305</th>\n",
              "      <th>0020125607</th>\n",
              "      <th>0020198817</th>\n",
              "      <th>0020198906</th>\n",
              "      <th>0020199600</th>\n",
              "      <th>0020264763</th>\n",
              "      <th>002026478X</th>\n",
              "      <th>0020264801</th>\n",
              "      <th>0020360754</th>\n",
              "      <th>002040400X</th>\n",
              "      <th>0020418809</th>\n",
              "      <th>0020427859</th>\n",
              "      <th>0020442009</th>\n",
              "      <th>0020442106</th>\n",
              "      <th>0020442203</th>\n",
              "      <th>0020442300</th>\n",
              "      <th>...</th>\n",
              "      <th>8495501090</th>\n",
              "      <th>8495501112</th>\n",
              "      <th>8495501198</th>\n",
              "      <th>849550152X</th>\n",
              "      <th>8495618605</th>\n",
              "      <th>8804342838</th>\n",
              "      <th>8804375914</th>\n",
              "      <th>880449509X</th>\n",
              "      <th>8806116053</th>\n",
              "      <th>8806142100</th>\n",
              "      <th>8806143042</th>\n",
              "      <th>8806163698</th>\n",
              "      <th>8807809907</th>\n",
              "      <th>880781000X</th>\n",
              "      <th>8807810212</th>\n",
              "      <th>880781076X</th>\n",
              "      <th>880781210X</th>\n",
              "      <th>8807813025</th>\n",
              "      <th>8807813823</th>\n",
              "      <th>8817106100</th>\n",
              "      <th>8817106119</th>\n",
              "      <th>8817106259</th>\n",
              "      <th>8817125539</th>\n",
              "      <th>8817131628</th>\n",
              "      <th>881787017X</th>\n",
              "      <th>8838918600</th>\n",
              "      <th>8845205118</th>\n",
              "      <th>8845247414</th>\n",
              "      <th>8845407039</th>\n",
              "      <th>884590184X</th>\n",
              "      <th>8845906884</th>\n",
              "      <th>8845915611</th>\n",
              "      <th>8878188212</th>\n",
              "      <th>8885989403</th>\n",
              "      <th>9074336329</th>\n",
              "      <th>9074336469</th>\n",
              "      <th>950491036X</th>\n",
              "      <th>9681500830</th>\n",
              "      <th>9681500954</th>\n",
              "      <th>9871138016</th>\n",
              "    </tr>\n",
              "    <tr>\n",
              "      <th>user</th>\n",
              "      <th></th>\n",
              "      <th></th>\n",
              "      <th></th>\n",
              "      <th></th>\n",
              "      <th></th>\n",
              "      <th></th>\n",
              "      <th></th>\n",
              "      <th></th>\n",
              "      <th></th>\n",
              "      <th></th>\n",
              "      <th></th>\n",
              "      <th></th>\n",
              "      <th></th>\n",
              "      <th></th>\n",
              "      <th></th>\n",
              "      <th></th>\n",
              "      <th></th>\n",
              "      <th></th>\n",
              "      <th></th>\n",
              "      <th></th>\n",
              "      <th></th>\n",
              "      <th></th>\n",
              "      <th></th>\n",
              "      <th></th>\n",
              "      <th></th>\n",
              "      <th></th>\n",
              "      <th></th>\n",
              "      <th></th>\n",
              "      <th></th>\n",
              "      <th></th>\n",
              "      <th></th>\n",
              "      <th></th>\n",
              "      <th></th>\n",
              "      <th></th>\n",
              "      <th></th>\n",
              "      <th></th>\n",
              "      <th></th>\n",
              "      <th></th>\n",
              "      <th></th>\n",
              "      <th></th>\n",
              "      <th></th>\n",
              "      <th></th>\n",
              "      <th></th>\n",
              "      <th></th>\n",
              "      <th></th>\n",
              "      <th></th>\n",
              "      <th></th>\n",
              "      <th></th>\n",
              "      <th></th>\n",
              "      <th></th>\n",
              "      <th></th>\n",
              "      <th></th>\n",
              "      <th></th>\n",
              "      <th></th>\n",
              "      <th></th>\n",
              "      <th></th>\n",
              "      <th></th>\n",
              "      <th></th>\n",
              "      <th></th>\n",
              "      <th></th>\n",
              "      <th></th>\n",
              "      <th></th>\n",
              "      <th></th>\n",
              "      <th></th>\n",
              "      <th></th>\n",
              "      <th></th>\n",
              "      <th></th>\n",
              "      <th></th>\n",
              "      <th></th>\n",
              "      <th></th>\n",
              "      <th></th>\n",
              "      <th></th>\n",
              "      <th></th>\n",
              "      <th></th>\n",
              "      <th></th>\n",
              "      <th></th>\n",
              "      <th></th>\n",
              "      <th></th>\n",
              "      <th></th>\n",
              "      <th></th>\n",
              "      <th></th>\n",
              "    </tr>\n",
              "  </thead>\n",
              "  <tbody>\n",
              "    <tr>\n",
              "      <th>8</th>\n",
              "      <td>5.0</td>\n",
              "      <td>NaN</td>\n",
              "      <td>NaN</td>\n",
              "      <td>NaN</td>\n",
              "      <td>NaN</td>\n",
              "      <td>NaN</td>\n",
              "      <td>NaN</td>\n",
              "      <td>NaN</td>\n",
              "      <td>NaN</td>\n",
              "      <td>NaN</td>\n",
              "      <td>NaN</td>\n",
              "      <td>NaN</td>\n",
              "      <td>NaN</td>\n",
              "      <td>NaN</td>\n",
              "      <td>NaN</td>\n",
              "      <td>NaN</td>\n",
              "      <td>NaN</td>\n",
              "      <td>NaN</td>\n",
              "      <td>NaN</td>\n",
              "      <td>NaN</td>\n",
              "      <td>NaN</td>\n",
              "      <td>NaN</td>\n",
              "      <td>NaN</td>\n",
              "      <td>NaN</td>\n",
              "      <td>NaN</td>\n",
              "      <td>NaN</td>\n",
              "      <td>NaN</td>\n",
              "      <td>NaN</td>\n",
              "      <td>NaN</td>\n",
              "      <td>NaN</td>\n",
              "      <td>NaN</td>\n",
              "      <td>NaN</td>\n",
              "      <td>NaN</td>\n",
              "      <td>NaN</td>\n",
              "      <td>NaN</td>\n",
              "      <td>NaN</td>\n",
              "      <td>NaN</td>\n",
              "      <td>NaN</td>\n",
              "      <td>NaN</td>\n",
              "      <td>NaN</td>\n",
              "      <td>...</td>\n",
              "      <td>NaN</td>\n",
              "      <td>NaN</td>\n",
              "      <td>NaN</td>\n",
              "      <td>NaN</td>\n",
              "      <td>NaN</td>\n",
              "      <td>NaN</td>\n",
              "      <td>NaN</td>\n",
              "      <td>NaN</td>\n",
              "      <td>NaN</td>\n",
              "      <td>NaN</td>\n",
              "      <td>NaN</td>\n",
              "      <td>NaN</td>\n",
              "      <td>NaN</td>\n",
              "      <td>NaN</td>\n",
              "      <td>NaN</td>\n",
              "      <td>NaN</td>\n",
              "      <td>NaN</td>\n",
              "      <td>NaN</td>\n",
              "      <td>NaN</td>\n",
              "      <td>NaN</td>\n",
              "      <td>NaN</td>\n",
              "      <td>NaN</td>\n",
              "      <td>NaN</td>\n",
              "      <td>NaN</td>\n",
              "      <td>NaN</td>\n",
              "      <td>NaN</td>\n",
              "      <td>NaN</td>\n",
              "      <td>NaN</td>\n",
              "      <td>NaN</td>\n",
              "      <td>NaN</td>\n",
              "      <td>NaN</td>\n",
              "      <td>NaN</td>\n",
              "      <td>NaN</td>\n",
              "      <td>NaN</td>\n",
              "      <td>NaN</td>\n",
              "      <td>NaN</td>\n",
              "      <td>NaN</td>\n",
              "      <td>NaN</td>\n",
              "      <td>NaN</td>\n",
              "      <td>NaN</td>\n",
              "    </tr>\n",
              "    <tr>\n",
              "      <th>99</th>\n",
              "      <td>NaN</td>\n",
              "      <td>NaN</td>\n",
              "      <td>NaN</td>\n",
              "      <td>NaN</td>\n",
              "      <td>NaN</td>\n",
              "      <td>NaN</td>\n",
              "      <td>NaN</td>\n",
              "      <td>NaN</td>\n",
              "      <td>NaN</td>\n",
              "      <td>NaN</td>\n",
              "      <td>NaN</td>\n",
              "      <td>NaN</td>\n",
              "      <td>NaN</td>\n",
              "      <td>NaN</td>\n",
              "      <td>NaN</td>\n",
              "      <td>NaN</td>\n",
              "      <td>NaN</td>\n",
              "      <td>NaN</td>\n",
              "      <td>NaN</td>\n",
              "      <td>NaN</td>\n",
              "      <td>NaN</td>\n",
              "      <td>NaN</td>\n",
              "      <td>NaN</td>\n",
              "      <td>NaN</td>\n",
              "      <td>NaN</td>\n",
              "      <td>NaN</td>\n",
              "      <td>NaN</td>\n",
              "      <td>NaN</td>\n",
              "      <td>NaN</td>\n",
              "      <td>NaN</td>\n",
              "      <td>NaN</td>\n",
              "      <td>NaN</td>\n",
              "      <td>NaN</td>\n",
              "      <td>NaN</td>\n",
              "      <td>NaN</td>\n",
              "      <td>NaN</td>\n",
              "      <td>NaN</td>\n",
              "      <td>NaN</td>\n",
              "      <td>NaN</td>\n",
              "      <td>NaN</td>\n",
              "      <td>...</td>\n",
              "      <td>NaN</td>\n",
              "      <td>NaN</td>\n",
              "      <td>NaN</td>\n",
              "      <td>NaN</td>\n",
              "      <td>NaN</td>\n",
              "      <td>NaN</td>\n",
              "      <td>NaN</td>\n",
              "      <td>NaN</td>\n",
              "      <td>NaN</td>\n",
              "      <td>NaN</td>\n",
              "      <td>NaN</td>\n",
              "      <td>NaN</td>\n",
              "      <td>NaN</td>\n",
              "      <td>NaN</td>\n",
              "      <td>NaN</td>\n",
              "      <td>NaN</td>\n",
              "      <td>NaN</td>\n",
              "      <td>NaN</td>\n",
              "      <td>NaN</td>\n",
              "      <td>NaN</td>\n",
              "      <td>NaN</td>\n",
              "      <td>NaN</td>\n",
              "      <td>NaN</td>\n",
              "      <td>NaN</td>\n",
              "      <td>NaN</td>\n",
              "      <td>NaN</td>\n",
              "      <td>NaN</td>\n",
              "      <td>NaN</td>\n",
              "      <td>NaN</td>\n",
              "      <td>NaN</td>\n",
              "      <td>NaN</td>\n",
              "      <td>NaN</td>\n",
              "      <td>NaN</td>\n",
              "      <td>NaN</td>\n",
              "      <td>NaN</td>\n",
              "      <td>NaN</td>\n",
              "      <td>NaN</td>\n",
              "      <td>NaN</td>\n",
              "      <td>NaN</td>\n",
              "      <td>NaN</td>\n",
              "    </tr>\n",
              "    <tr>\n",
              "      <th>242</th>\n",
              "      <td>NaN</td>\n",
              "      <td>NaN</td>\n",
              "      <td>NaN</td>\n",
              "      <td>NaN</td>\n",
              "      <td>NaN</td>\n",
              "      <td>NaN</td>\n",
              "      <td>NaN</td>\n",
              "      <td>NaN</td>\n",
              "      <td>NaN</td>\n",
              "      <td>NaN</td>\n",
              "      <td>NaN</td>\n",
              "      <td>NaN</td>\n",
              "      <td>NaN</td>\n",
              "      <td>NaN</td>\n",
              "      <td>NaN</td>\n",
              "      <td>NaN</td>\n",
              "      <td>NaN</td>\n",
              "      <td>NaN</td>\n",
              "      <td>NaN</td>\n",
              "      <td>NaN</td>\n",
              "      <td>NaN</td>\n",
              "      <td>NaN</td>\n",
              "      <td>NaN</td>\n",
              "      <td>NaN</td>\n",
              "      <td>NaN</td>\n",
              "      <td>NaN</td>\n",
              "      <td>NaN</td>\n",
              "      <td>NaN</td>\n",
              "      <td>NaN</td>\n",
              "      <td>NaN</td>\n",
              "      <td>NaN</td>\n",
              "      <td>NaN</td>\n",
              "      <td>NaN</td>\n",
              "      <td>NaN</td>\n",
              "      <td>NaN</td>\n",
              "      <td>NaN</td>\n",
              "      <td>NaN</td>\n",
              "      <td>NaN</td>\n",
              "      <td>NaN</td>\n",
              "      <td>NaN</td>\n",
              "      <td>...</td>\n",
              "      <td>NaN</td>\n",
              "      <td>NaN</td>\n",
              "      <td>NaN</td>\n",
              "      <td>NaN</td>\n",
              "      <td>NaN</td>\n",
              "      <td>NaN</td>\n",
              "      <td>NaN</td>\n",
              "      <td>NaN</td>\n",
              "      <td>NaN</td>\n",
              "      <td>NaN</td>\n",
              "      <td>NaN</td>\n",
              "      <td>NaN</td>\n",
              "      <td>NaN</td>\n",
              "      <td>NaN</td>\n",
              "      <td>NaN</td>\n",
              "      <td>NaN</td>\n",
              "      <td>NaN</td>\n",
              "      <td>NaN</td>\n",
              "      <td>NaN</td>\n",
              "      <td>NaN</td>\n",
              "      <td>NaN</td>\n",
              "      <td>NaN</td>\n",
              "      <td>NaN</td>\n",
              "      <td>NaN</td>\n",
              "      <td>NaN</td>\n",
              "      <td>NaN</td>\n",
              "      <td>NaN</td>\n",
              "      <td>NaN</td>\n",
              "      <td>NaN</td>\n",
              "      <td>NaN</td>\n",
              "      <td>NaN</td>\n",
              "      <td>NaN</td>\n",
              "      <td>NaN</td>\n",
              "      <td>NaN</td>\n",
              "      <td>NaN</td>\n",
              "      <td>NaN</td>\n",
              "      <td>NaN</td>\n",
              "      <td>NaN</td>\n",
              "      <td>NaN</td>\n",
              "      <td>NaN</td>\n",
              "    </tr>\n",
              "    <tr>\n",
              "      <th>243</th>\n",
              "      <td>NaN</td>\n",
              "      <td>NaN</td>\n",
              "      <td>NaN</td>\n",
              "      <td>NaN</td>\n",
              "      <td>NaN</td>\n",
              "      <td>NaN</td>\n",
              "      <td>NaN</td>\n",
              "      <td>NaN</td>\n",
              "      <td>NaN</td>\n",
              "      <td>NaN</td>\n",
              "      <td>NaN</td>\n",
              "      <td>NaN</td>\n",
              "      <td>NaN</td>\n",
              "      <td>NaN</td>\n",
              "      <td>NaN</td>\n",
              "      <td>NaN</td>\n",
              "      <td>NaN</td>\n",
              "      <td>NaN</td>\n",
              "      <td>NaN</td>\n",
              "      <td>NaN</td>\n",
              "      <td>NaN</td>\n",
              "      <td>NaN</td>\n",
              "      <td>NaN</td>\n",
              "      <td>NaN</td>\n",
              "      <td>NaN</td>\n",
              "      <td>NaN</td>\n",
              "      <td>NaN</td>\n",
              "      <td>NaN</td>\n",
              "      <td>NaN</td>\n",
              "      <td>NaN</td>\n",
              "      <td>NaN</td>\n",
              "      <td>NaN</td>\n",
              "      <td>NaN</td>\n",
              "      <td>NaN</td>\n",
              "      <td>NaN</td>\n",
              "      <td>NaN</td>\n",
              "      <td>NaN</td>\n",
              "      <td>NaN</td>\n",
              "      <td>NaN</td>\n",
              "      <td>NaN</td>\n",
              "      <td>...</td>\n",
              "      <td>NaN</td>\n",
              "      <td>NaN</td>\n",
              "      <td>NaN</td>\n",
              "      <td>NaN</td>\n",
              "      <td>NaN</td>\n",
              "      <td>NaN</td>\n",
              "      <td>NaN</td>\n",
              "      <td>NaN</td>\n",
              "      <td>NaN</td>\n",
              "      <td>NaN</td>\n",
              "      <td>NaN</td>\n",
              "      <td>NaN</td>\n",
              "      <td>NaN</td>\n",
              "      <td>NaN</td>\n",
              "      <td>NaN</td>\n",
              "      <td>NaN</td>\n",
              "      <td>NaN</td>\n",
              "      <td>NaN</td>\n",
              "      <td>NaN</td>\n",
              "      <td>NaN</td>\n",
              "      <td>NaN</td>\n",
              "      <td>NaN</td>\n",
              "      <td>NaN</td>\n",
              "      <td>NaN</td>\n",
              "      <td>NaN</td>\n",
              "      <td>NaN</td>\n",
              "      <td>NaN</td>\n",
              "      <td>NaN</td>\n",
              "      <td>NaN</td>\n",
              "      <td>NaN</td>\n",
              "      <td>NaN</td>\n",
              "      <td>NaN</td>\n",
              "      <td>NaN</td>\n",
              "      <td>NaN</td>\n",
              "      <td>NaN</td>\n",
              "      <td>NaN</td>\n",
              "      <td>NaN</td>\n",
              "      <td>NaN</td>\n",
              "      <td>NaN</td>\n",
              "      <td>NaN</td>\n",
              "    </tr>\n",
              "    <tr>\n",
              "      <th>254</th>\n",
              "      <td>NaN</td>\n",
              "      <td>NaN</td>\n",
              "      <td>NaN</td>\n",
              "      <td>NaN</td>\n",
              "      <td>NaN</td>\n",
              "      <td>NaN</td>\n",
              "      <td>NaN</td>\n",
              "      <td>NaN</td>\n",
              "      <td>NaN</td>\n",
              "      <td>NaN</td>\n",
              "      <td>NaN</td>\n",
              "      <td>NaN</td>\n",
              "      <td>NaN</td>\n",
              "      <td>NaN</td>\n",
              "      <td>NaN</td>\n",
              "      <td>NaN</td>\n",
              "      <td>NaN</td>\n",
              "      <td>NaN</td>\n",
              "      <td>NaN</td>\n",
              "      <td>NaN</td>\n",
              "      <td>NaN</td>\n",
              "      <td>NaN</td>\n",
              "      <td>NaN</td>\n",
              "      <td>NaN</td>\n",
              "      <td>NaN</td>\n",
              "      <td>NaN</td>\n",
              "      <td>NaN</td>\n",
              "      <td>NaN</td>\n",
              "      <td>NaN</td>\n",
              "      <td>NaN</td>\n",
              "      <td>NaN</td>\n",
              "      <td>NaN</td>\n",
              "      <td>NaN</td>\n",
              "      <td>NaN</td>\n",
              "      <td>NaN</td>\n",
              "      <td>NaN</td>\n",
              "      <td>NaN</td>\n",
              "      <td>NaN</td>\n",
              "      <td>NaN</td>\n",
              "      <td>NaN</td>\n",
              "      <td>...</td>\n",
              "      <td>NaN</td>\n",
              "      <td>NaN</td>\n",
              "      <td>NaN</td>\n",
              "      <td>NaN</td>\n",
              "      <td>NaN</td>\n",
              "      <td>NaN</td>\n",
              "      <td>NaN</td>\n",
              "      <td>NaN</td>\n",
              "      <td>NaN</td>\n",
              "      <td>NaN</td>\n",
              "      <td>NaN</td>\n",
              "      <td>NaN</td>\n",
              "      <td>NaN</td>\n",
              "      <td>NaN</td>\n",
              "      <td>NaN</td>\n",
              "      <td>NaN</td>\n",
              "      <td>NaN</td>\n",
              "      <td>NaN</td>\n",
              "      <td>NaN</td>\n",
              "      <td>NaN</td>\n",
              "      <td>NaN</td>\n",
              "      <td>NaN</td>\n",
              "      <td>NaN</td>\n",
              "      <td>NaN</td>\n",
              "      <td>NaN</td>\n",
              "      <td>NaN</td>\n",
              "      <td>NaN</td>\n",
              "      <td>NaN</td>\n",
              "      <td>NaN</td>\n",
              "      <td>NaN</td>\n",
              "      <td>NaN</td>\n",
              "      <td>NaN</td>\n",
              "      <td>NaN</td>\n",
              "      <td>NaN</td>\n",
              "      <td>NaN</td>\n",
              "      <td>NaN</td>\n",
              "      <td>NaN</td>\n",
              "      <td>NaN</td>\n",
              "      <td>NaN</td>\n",
              "      <td>NaN</td>\n",
              "    </tr>\n",
              "  </tbody>\n",
              "</table>\n",
              "<p>5 rows × 15451 columns</p>\n",
              "</div>"
            ],
            "text/plain": [
              "isbn  0002005018  0002251760  0002259834  ...  9681500830  9681500954  9871138016\n",
              "user                                      ...                                    \n",
              "8            5.0         NaN         NaN  ...         NaN         NaN         NaN\n",
              "99           NaN         NaN         NaN  ...         NaN         NaN         NaN\n",
              "242          NaN         NaN         NaN  ...         NaN         NaN         NaN\n",
              "243          NaN         NaN         NaN  ...         NaN         NaN         NaN\n",
              "254          NaN         NaN         NaN  ...         NaN         NaN         NaN\n",
              "\n",
              "[5 rows x 15451 columns]"
            ]
          },
          "metadata": {
            "tags": []
          },
          "execution_count": 18
        }
      ]
    },
    {
      "cell_type": "code",
      "metadata": {
        "id": "B82lx7Q8hJAF"
      },
      "source": [
        ""
      ],
      "execution_count": null,
      "outputs": []
    },
    {
      "cell_type": "markdown",
      "metadata": {
        "id": "dgPHiROctkiq"
      },
      "source": [
        "### User Similarity\n",
        "Computing similarity between the users based on the ratings they have given to books using hamming distance."
      ]
    },
    {
      "cell_type": "code",
      "metadata": {
        "id": "z8Tws-1viGJF"
      },
      "source": [
        "# computing distance between two users\n",
        "user1 = 204622\n",
        "user2 = 255489"
      ],
      "execution_count": 19,
      "outputs": []
    },
    {
      "cell_type": "code",
      "metadata": {
        "colab": {
          "base_uri": "https://localhost:8080/"
        },
        "id": "jKBnJGjwiVa7",
        "outputId": "90d289f0-e94a-422b-c5d9-f52083b17304"
      },
      "source": [
        "user1_ratings = user_item_rating_matrix.transpose()[user1]\n",
        "user1_ratings.head()"
      ],
      "execution_count": 20,
      "outputs": [
        {
          "output_type": "execute_result",
          "data": {
            "text/plain": [
              "isbn\n",
              "0002005018   NaN\n",
              "0002251760   NaN\n",
              "0002259834   NaN\n",
              "0002558122   NaN\n",
              "0006480764   NaN\n",
              "Name: 204622, dtype: float64"
            ]
          },
          "metadata": {
            "tags": []
          },
          "execution_count": 20
        }
      ]
    },
    {
      "cell_type": "code",
      "metadata": {
        "colab": {
          "base_uri": "https://localhost:8080/"
        },
        "id": "mYIQROeviwyQ",
        "outputId": "5e61e580-ae37-46aa-8f49-bb5baf112005"
      },
      "source": [
        "user2_ratings = user_item_rating_matrix.transpose()[user2]\n",
        "user2_ratings.head()"
      ],
      "execution_count": 21,
      "outputs": [
        {
          "output_type": "execute_result",
          "data": {
            "text/plain": [
              "isbn\n",
              "0002005018   NaN\n",
              "0002251760   NaN\n",
              "0002259834   NaN\n",
              "0002558122   NaN\n",
              "0006480764   NaN\n",
              "Name: 255489, dtype: float64"
            ]
          },
          "metadata": {
            "tags": []
          },
          "execution_count": 21
        }
      ]
    },
    {
      "cell_type": "code",
      "metadata": {
        "colab": {
          "base_uri": "https://localhost:8080/"
        },
        "id": "chLtC4ozi8KT",
        "outputId": "0a5fc0c0-bc4b-4b70-c6c8-5a2e9d45e7fb"
      },
      "source": [
        "# computing distance with hamming distance metric\n",
        "# hamming distance shows the disaggrement\n",
        "\n",
        "from scipy.spatial.distance import hamming\n",
        "hamming(user1_ratings, user2_ratings)"
      ],
      "execution_count": 22,
      "outputs": [
        {
          "output_type": "execute_result",
          "data": {
            "text/plain": [
              "0.9999352792699502"
            ]
          },
          "metadata": {
            "tags": []
          },
          "execution_count": 22
        }
      ]
    },
    {
      "cell_type": "markdown",
      "metadata": {
        "id": "yWdd4dUpt4fJ"
      },
      "source": [
        "The hamming distance shows the disagreement bwtween two data points. So, higher value shows that the data points are far from each other. "
      ]
    },
    {
      "cell_type": "code",
      "metadata": {
        "id": "0fIWrImwjrTe"
      },
      "source": [
        "# setting up the function to calculate distance between any two users\n",
        "def distance(user1, user2):\n",
        "  try:\n",
        "    user1_ratings = user_item_rating_matrix.transpose()[user1]\n",
        "    user2_ratings = user_item_rating_matrix.transpose()[user2]\n",
        "    distance = hamming(user1_ratings, user2_ratings)\n",
        "  except:\n",
        "    distance = np.NaN\n",
        "  return distance"
      ],
      "execution_count": 23,
      "outputs": []
    },
    {
      "cell_type": "code",
      "metadata": {
        "colab": {
          "base_uri": "https://localhost:8080/"
        },
        "id": "LruyRmp_jMjv",
        "outputId": "632520f7-da6b-427f-9c06-f886c954c75b"
      },
      "source": [
        "# checking the distance function\n",
        "distance(user1, user2)"
      ],
      "execution_count": 24,
      "outputs": [
        {
          "output_type": "execute_result",
          "data": {
            "text/plain": [
              "0.9999352792699502"
            ]
          },
          "metadata": {
            "tags": []
          },
          "execution_count": 24
        }
      ]
    },
    {
      "cell_type": "markdown",
      "metadata": {
        "id": "ua-bWtDzuLah"
      },
      "source": [
        "### Finding Top N Nearest Neighbors"
      ]
    },
    {
      "cell_type": "markdown",
      "metadata": {
        "id": "jP33JvpYuU60"
      },
      "source": [
        "After we calculate the distance between the users, based on the similarity we can find the nearest N neighbors."
      ]
    },
    {
      "cell_type": "code",
      "metadata": {
        "id": "apbsWiKalpU-"
      },
      "source": [
        "# taking an example for a user\n",
        "user = 204622"
      ],
      "execution_count": 25,
      "outputs": []
    },
    {
      "cell_type": "code",
      "metadata": {
        "colab": {
          "base_uri": "https://localhost:8080/",
          "height": 202
        },
        "id": "NdVF4J-UmAWu",
        "outputId": "5a3d0166-4006-4dea-e79a-1afce4397132"
      },
      "source": [
        "# getting all the users\n",
        "all_users = pd.DataFrame(user_item_rating_matrix.index)\n",
        "\n",
        "# remove the current user from the all_users list\n",
        "all_users = all_users[all_users.user!=user]\n",
        "all_users.head()"
      ],
      "execution_count": 26,
      "outputs": [
        {
          "output_type": "execute_result",
          "data": {
            "text/html": [
              "<div>\n",
              "<style scoped>\n",
              "    .dataframe tbody tr th:only-of-type {\n",
              "        vertical-align: middle;\n",
              "    }\n",
              "\n",
              "    .dataframe tbody tr th {\n",
              "        vertical-align: top;\n",
              "    }\n",
              "\n",
              "    .dataframe thead th {\n",
              "        text-align: right;\n",
              "    }\n",
              "</style>\n",
              "<table border=\"1\" class=\"dataframe\">\n",
              "  <thead>\n",
              "    <tr style=\"text-align: right;\">\n",
              "      <th></th>\n",
              "      <th>user</th>\n",
              "    </tr>\n",
              "  </thead>\n",
              "  <tbody>\n",
              "    <tr>\n",
              "      <th>0</th>\n",
              "      <td>8</td>\n",
              "    </tr>\n",
              "    <tr>\n",
              "      <th>1</th>\n",
              "      <td>99</td>\n",
              "    </tr>\n",
              "    <tr>\n",
              "      <th>2</th>\n",
              "      <td>242</td>\n",
              "    </tr>\n",
              "    <tr>\n",
              "      <th>3</th>\n",
              "      <td>243</td>\n",
              "    </tr>\n",
              "    <tr>\n",
              "      <th>4</th>\n",
              "      <td>254</td>\n",
              "    </tr>\n",
              "  </tbody>\n",
              "</table>\n",
              "</div>"
            ],
            "text/plain": [
              "   user\n",
              "0     8\n",
              "1    99\n",
              "2   242\n",
              "3   243\n",
              "4   254"
            ]
          },
          "metadata": {
            "tags": []
          },
          "execution_count": 26
        }
      ]
    },
    {
      "cell_type": "code",
      "metadata": {
        "id": "XRi1EteRmhWv"
      },
      "source": [
        "# distance between all users and the active user\n",
        "all_users['distance'] = all_users['user'].apply(lambda x: distance(user,x))"
      ],
      "execution_count": 27,
      "outputs": []
    },
    {
      "cell_type": "code",
      "metadata": {
        "colab": {
          "base_uri": "https://localhost:8080/",
          "height": 202
        },
        "id": "ErK_EjXRnNRn",
        "outputId": "34670a3a-663b-4346-c866-1222656fe088"
      },
      "source": [
        "all_users.head()"
      ],
      "execution_count": 28,
      "outputs": [
        {
          "output_type": "execute_result",
          "data": {
            "text/html": [
              "<div>\n",
              "<style scoped>\n",
              "    .dataframe tbody tr th:only-of-type {\n",
              "        vertical-align: middle;\n",
              "    }\n",
              "\n",
              "    .dataframe tbody tr th {\n",
              "        vertical-align: top;\n",
              "    }\n",
              "\n",
              "    .dataframe thead th {\n",
              "        text-align: right;\n",
              "    }\n",
              "</style>\n",
              "<table border=\"1\" class=\"dataframe\">\n",
              "  <thead>\n",
              "    <tr style=\"text-align: right;\">\n",
              "      <th></th>\n",
              "      <th>user</th>\n",
              "      <th>distance</th>\n",
              "    </tr>\n",
              "  </thead>\n",
              "  <tbody>\n",
              "    <tr>\n",
              "      <th>0</th>\n",
              "      <td>8</td>\n",
              "      <td>1.000000</td>\n",
              "    </tr>\n",
              "    <tr>\n",
              "      <th>1</th>\n",
              "      <td>99</td>\n",
              "      <td>1.000000</td>\n",
              "    </tr>\n",
              "    <tr>\n",
              "      <th>2</th>\n",
              "      <td>242</td>\n",
              "      <td>0.999935</td>\n",
              "    </tr>\n",
              "    <tr>\n",
              "      <th>3</th>\n",
              "      <td>243</td>\n",
              "      <td>0.999935</td>\n",
              "    </tr>\n",
              "    <tr>\n",
              "      <th>4</th>\n",
              "      <td>254</td>\n",
              "      <td>1.000000</td>\n",
              "    </tr>\n",
              "  </tbody>\n",
              "</table>\n",
              "</div>"
            ],
            "text/plain": [
              "   user  distance\n",
              "0     8  1.000000\n",
              "1    99  1.000000\n",
              "2   242  0.999935\n",
              "3   243  0.999935\n",
              "4   254  1.000000"
            ]
          },
          "metadata": {
            "tags": []
          },
          "execution_count": 28
        }
      ]
    },
    {
      "cell_type": "code",
      "metadata": {
        "colab": {
          "base_uri": "https://localhost:8080/"
        },
        "id": "4OChlp4GnM-j",
        "outputId": "2be0589d-c04a-4bf8-9f2b-b592f0e251de"
      },
      "source": [
        "# finding k nearest neighbor\n",
        "k = 10\n",
        "k_nearest_users = all_users.sort_values('distance')['user'][:k]\n",
        "k_nearest_users"
      ],
      "execution_count": 29,
      "outputs": [
        {
          "output_type": "execute_result",
          "data": {
            "text/plain": [
              "3201     82893\n",
              "3368     87555\n",
              "2624     68555\n",
              "1813     48046\n",
              "5401    140036\n",
              "7584    198711\n",
              "565      16795\n",
              "8866    232131\n",
              "239       7346\n",
              "9693    251422\n",
              "Name: user, dtype: int64"
            ]
          },
          "metadata": {
            "tags": []
          },
          "execution_count": 29
        }
      ]
    },
    {
      "cell_type": "code",
      "metadata": {
        "id": "c2tkoqZlpLqf"
      },
      "source": [
        "# putting everything to a function\n",
        "def nearest_negihbors(user, k =10):\n",
        "  all_users = pd.DataFrame(user_item_rating_matrix.index)\n",
        "  all_users = all_users[all_users.user!=user]\n",
        "  all_users['distance'] = all_users['user'].apply(lambda x: distance(user,x))\n",
        "  k_nearest_users = all_users.sort_values('distance')['user'][:k]\n",
        "  return k_nearest_users"
      ],
      "execution_count": 30,
      "outputs": []
    },
    {
      "cell_type": "code",
      "metadata": {
        "id": "9GnH875hprlJ"
      },
      "source": [
        ""
      ],
      "execution_count": null,
      "outputs": []
    },
    {
      "cell_type": "markdown",
      "metadata": {
        "id": "M8jKUPcuu7za"
      },
      "source": [
        "### Recommending the Books"
      ]
    },
    {
      "cell_type": "markdown",
      "metadata": {
        "id": "PJs9arVku_Ig"
      },
      "source": [
        "When we have found out the top N nearest neighbors for an user, we can calculate the ratings that the user will give to a new book as an average ratings of the ratings that its nearest neighbors have given to the book."
      ]
    },
    {
      "cell_type": "code",
      "metadata": {
        "colab": {
          "base_uri": "https://localhost:8080/",
          "height": 435
        },
        "id": "bZTSNWivqGo_",
        "outputId": "220d2b24-3d10-4ae4-cb4e-9b80f6893edc"
      },
      "source": [
        "# getting ratings for the nearest users\n",
        "nn_ratings = user_item_rating_matrix[user_item_rating_matrix.index.isin(k_nearest_users)]\n",
        "nn_ratings"
      ],
      "execution_count": 31,
      "outputs": [
        {
          "output_type": "execute_result",
          "data": {
            "text/html": [
              "<div>\n",
              "<style scoped>\n",
              "    .dataframe tbody tr th:only-of-type {\n",
              "        vertical-align: middle;\n",
              "    }\n",
              "\n",
              "    .dataframe tbody tr th {\n",
              "        vertical-align: top;\n",
              "    }\n",
              "\n",
              "    .dataframe thead th {\n",
              "        text-align: right;\n",
              "    }\n",
              "</style>\n",
              "<table border=\"1\" class=\"dataframe\">\n",
              "  <thead>\n",
              "    <tr style=\"text-align: right;\">\n",
              "      <th>isbn</th>\n",
              "      <th>0002005018</th>\n",
              "      <th>0002251760</th>\n",
              "      <th>0002259834</th>\n",
              "      <th>0002558122</th>\n",
              "      <th>0006480764</th>\n",
              "      <th>000648302X</th>\n",
              "      <th>0006485200</th>\n",
              "      <th>000649840X</th>\n",
              "      <th>000651202X</th>\n",
              "      <th>0006512062</th>\n",
              "      <th>0006543545</th>\n",
              "      <th>0006546684</th>\n",
              "      <th>0006547834</th>\n",
              "      <th>0006550576</th>\n",
              "      <th>0006550649</th>\n",
              "      <th>0006550789</th>\n",
              "      <th>0006550924</th>\n",
              "      <th>0007106572</th>\n",
              "      <th>0007110928</th>\n",
              "      <th>0007122039</th>\n",
              "      <th>0007141076</th>\n",
              "      <th>0007154615</th>\n",
              "      <th>000716226X</th>\n",
              "      <th>0007170866</th>\n",
              "      <th>0020125305</th>\n",
              "      <th>0020125607</th>\n",
              "      <th>0020198817</th>\n",
              "      <th>0020198906</th>\n",
              "      <th>0020199600</th>\n",
              "      <th>0020264763</th>\n",
              "      <th>002026478X</th>\n",
              "      <th>0020264801</th>\n",
              "      <th>0020360754</th>\n",
              "      <th>002040400X</th>\n",
              "      <th>0020418809</th>\n",
              "      <th>0020427859</th>\n",
              "      <th>0020442009</th>\n",
              "      <th>0020442106</th>\n",
              "      <th>0020442203</th>\n",
              "      <th>0020442300</th>\n",
              "      <th>...</th>\n",
              "      <th>8495501090</th>\n",
              "      <th>8495501112</th>\n",
              "      <th>8495501198</th>\n",
              "      <th>849550152X</th>\n",
              "      <th>8495618605</th>\n",
              "      <th>8804342838</th>\n",
              "      <th>8804375914</th>\n",
              "      <th>880449509X</th>\n",
              "      <th>8806116053</th>\n",
              "      <th>8806142100</th>\n",
              "      <th>8806143042</th>\n",
              "      <th>8806163698</th>\n",
              "      <th>8807809907</th>\n",
              "      <th>880781000X</th>\n",
              "      <th>8807810212</th>\n",
              "      <th>880781076X</th>\n",
              "      <th>880781210X</th>\n",
              "      <th>8807813025</th>\n",
              "      <th>8807813823</th>\n",
              "      <th>8817106100</th>\n",
              "      <th>8817106119</th>\n",
              "      <th>8817106259</th>\n",
              "      <th>8817125539</th>\n",
              "      <th>8817131628</th>\n",
              "      <th>881787017X</th>\n",
              "      <th>8838918600</th>\n",
              "      <th>8845205118</th>\n",
              "      <th>8845247414</th>\n",
              "      <th>8845407039</th>\n",
              "      <th>884590184X</th>\n",
              "      <th>8845906884</th>\n",
              "      <th>8845915611</th>\n",
              "      <th>8878188212</th>\n",
              "      <th>8885989403</th>\n",
              "      <th>9074336329</th>\n",
              "      <th>9074336469</th>\n",
              "      <th>950491036X</th>\n",
              "      <th>9681500830</th>\n",
              "      <th>9681500954</th>\n",
              "      <th>9871138016</th>\n",
              "    </tr>\n",
              "    <tr>\n",
              "      <th>user</th>\n",
              "      <th></th>\n",
              "      <th></th>\n",
              "      <th></th>\n",
              "      <th></th>\n",
              "      <th></th>\n",
              "      <th></th>\n",
              "      <th></th>\n",
              "      <th></th>\n",
              "      <th></th>\n",
              "      <th></th>\n",
              "      <th></th>\n",
              "      <th></th>\n",
              "      <th></th>\n",
              "      <th></th>\n",
              "      <th></th>\n",
              "      <th></th>\n",
              "      <th></th>\n",
              "      <th></th>\n",
              "      <th></th>\n",
              "      <th></th>\n",
              "      <th></th>\n",
              "      <th></th>\n",
              "      <th></th>\n",
              "      <th></th>\n",
              "      <th></th>\n",
              "      <th></th>\n",
              "      <th></th>\n",
              "      <th></th>\n",
              "      <th></th>\n",
              "      <th></th>\n",
              "      <th></th>\n",
              "      <th></th>\n",
              "      <th></th>\n",
              "      <th></th>\n",
              "      <th></th>\n",
              "      <th></th>\n",
              "      <th></th>\n",
              "      <th></th>\n",
              "      <th></th>\n",
              "      <th></th>\n",
              "      <th></th>\n",
              "      <th></th>\n",
              "      <th></th>\n",
              "      <th></th>\n",
              "      <th></th>\n",
              "      <th></th>\n",
              "      <th></th>\n",
              "      <th></th>\n",
              "      <th></th>\n",
              "      <th></th>\n",
              "      <th></th>\n",
              "      <th></th>\n",
              "      <th></th>\n",
              "      <th></th>\n",
              "      <th></th>\n",
              "      <th></th>\n",
              "      <th></th>\n",
              "      <th></th>\n",
              "      <th></th>\n",
              "      <th></th>\n",
              "      <th></th>\n",
              "      <th></th>\n",
              "      <th></th>\n",
              "      <th></th>\n",
              "      <th></th>\n",
              "      <th></th>\n",
              "      <th></th>\n",
              "      <th></th>\n",
              "      <th></th>\n",
              "      <th></th>\n",
              "      <th></th>\n",
              "      <th></th>\n",
              "      <th></th>\n",
              "      <th></th>\n",
              "      <th></th>\n",
              "      <th></th>\n",
              "      <th></th>\n",
              "      <th></th>\n",
              "      <th></th>\n",
              "      <th></th>\n",
              "      <th></th>\n",
              "    </tr>\n",
              "  </thead>\n",
              "  <tbody>\n",
              "    <tr>\n",
              "      <th>7346</th>\n",
              "      <td>NaN</td>\n",
              "      <td>NaN</td>\n",
              "      <td>NaN</td>\n",
              "      <td>NaN</td>\n",
              "      <td>NaN</td>\n",
              "      <td>NaN</td>\n",
              "      <td>NaN</td>\n",
              "      <td>NaN</td>\n",
              "      <td>NaN</td>\n",
              "      <td>NaN</td>\n",
              "      <td>NaN</td>\n",
              "      <td>NaN</td>\n",
              "      <td>NaN</td>\n",
              "      <td>NaN</td>\n",
              "      <td>NaN</td>\n",
              "      <td>NaN</td>\n",
              "      <td>NaN</td>\n",
              "      <td>NaN</td>\n",
              "      <td>NaN</td>\n",
              "      <td>NaN</td>\n",
              "      <td>NaN</td>\n",
              "      <td>NaN</td>\n",
              "      <td>NaN</td>\n",
              "      <td>NaN</td>\n",
              "      <td>NaN</td>\n",
              "      <td>NaN</td>\n",
              "      <td>NaN</td>\n",
              "      <td>8.0</td>\n",
              "      <td>NaN</td>\n",
              "      <td>NaN</td>\n",
              "      <td>NaN</td>\n",
              "      <td>NaN</td>\n",
              "      <td>NaN</td>\n",
              "      <td>NaN</td>\n",
              "      <td>NaN</td>\n",
              "      <td>NaN</td>\n",
              "      <td>NaN</td>\n",
              "      <td>NaN</td>\n",
              "      <td>NaN</td>\n",
              "      <td>NaN</td>\n",
              "      <td>...</td>\n",
              "      <td>NaN</td>\n",
              "      <td>NaN</td>\n",
              "      <td>NaN</td>\n",
              "      <td>NaN</td>\n",
              "      <td>NaN</td>\n",
              "      <td>NaN</td>\n",
              "      <td>NaN</td>\n",
              "      <td>NaN</td>\n",
              "      <td>NaN</td>\n",
              "      <td>NaN</td>\n",
              "      <td>NaN</td>\n",
              "      <td>NaN</td>\n",
              "      <td>NaN</td>\n",
              "      <td>NaN</td>\n",
              "      <td>NaN</td>\n",
              "      <td>NaN</td>\n",
              "      <td>NaN</td>\n",
              "      <td>NaN</td>\n",
              "      <td>NaN</td>\n",
              "      <td>NaN</td>\n",
              "      <td>NaN</td>\n",
              "      <td>NaN</td>\n",
              "      <td>NaN</td>\n",
              "      <td>NaN</td>\n",
              "      <td>NaN</td>\n",
              "      <td>NaN</td>\n",
              "      <td>NaN</td>\n",
              "      <td>NaN</td>\n",
              "      <td>NaN</td>\n",
              "      <td>NaN</td>\n",
              "      <td>NaN</td>\n",
              "      <td>NaN</td>\n",
              "      <td>NaN</td>\n",
              "      <td>NaN</td>\n",
              "      <td>NaN</td>\n",
              "      <td>NaN</td>\n",
              "      <td>NaN</td>\n",
              "      <td>NaN</td>\n",
              "      <td>NaN</td>\n",
              "      <td>NaN</td>\n",
              "    </tr>\n",
              "    <tr>\n",
              "      <th>16795</th>\n",
              "      <td>NaN</td>\n",
              "      <td>NaN</td>\n",
              "      <td>NaN</td>\n",
              "      <td>NaN</td>\n",
              "      <td>NaN</td>\n",
              "      <td>NaN</td>\n",
              "      <td>NaN</td>\n",
              "      <td>NaN</td>\n",
              "      <td>NaN</td>\n",
              "      <td>NaN</td>\n",
              "      <td>NaN</td>\n",
              "      <td>NaN</td>\n",
              "      <td>NaN</td>\n",
              "      <td>NaN</td>\n",
              "      <td>NaN</td>\n",
              "      <td>NaN</td>\n",
              "      <td>NaN</td>\n",
              "      <td>NaN</td>\n",
              "      <td>NaN</td>\n",
              "      <td>NaN</td>\n",
              "      <td>NaN</td>\n",
              "      <td>NaN</td>\n",
              "      <td>NaN</td>\n",
              "      <td>NaN</td>\n",
              "      <td>NaN</td>\n",
              "      <td>NaN</td>\n",
              "      <td>NaN</td>\n",
              "      <td>NaN</td>\n",
              "      <td>NaN</td>\n",
              "      <td>NaN</td>\n",
              "      <td>NaN</td>\n",
              "      <td>NaN</td>\n",
              "      <td>NaN</td>\n",
              "      <td>NaN</td>\n",
              "      <td>NaN</td>\n",
              "      <td>NaN</td>\n",
              "      <td>NaN</td>\n",
              "      <td>NaN</td>\n",
              "      <td>NaN</td>\n",
              "      <td>NaN</td>\n",
              "      <td>...</td>\n",
              "      <td>NaN</td>\n",
              "      <td>NaN</td>\n",
              "      <td>NaN</td>\n",
              "      <td>NaN</td>\n",
              "      <td>NaN</td>\n",
              "      <td>NaN</td>\n",
              "      <td>NaN</td>\n",
              "      <td>NaN</td>\n",
              "      <td>NaN</td>\n",
              "      <td>NaN</td>\n",
              "      <td>NaN</td>\n",
              "      <td>NaN</td>\n",
              "      <td>NaN</td>\n",
              "      <td>NaN</td>\n",
              "      <td>NaN</td>\n",
              "      <td>NaN</td>\n",
              "      <td>NaN</td>\n",
              "      <td>NaN</td>\n",
              "      <td>NaN</td>\n",
              "      <td>NaN</td>\n",
              "      <td>NaN</td>\n",
              "      <td>NaN</td>\n",
              "      <td>NaN</td>\n",
              "      <td>NaN</td>\n",
              "      <td>NaN</td>\n",
              "      <td>NaN</td>\n",
              "      <td>NaN</td>\n",
              "      <td>NaN</td>\n",
              "      <td>NaN</td>\n",
              "      <td>NaN</td>\n",
              "      <td>NaN</td>\n",
              "      <td>NaN</td>\n",
              "      <td>NaN</td>\n",
              "      <td>NaN</td>\n",
              "      <td>NaN</td>\n",
              "      <td>NaN</td>\n",
              "      <td>NaN</td>\n",
              "      <td>NaN</td>\n",
              "      <td>NaN</td>\n",
              "      <td>NaN</td>\n",
              "    </tr>\n",
              "    <tr>\n",
              "      <th>48046</th>\n",
              "      <td>NaN</td>\n",
              "      <td>NaN</td>\n",
              "      <td>NaN</td>\n",
              "      <td>NaN</td>\n",
              "      <td>NaN</td>\n",
              "      <td>NaN</td>\n",
              "      <td>NaN</td>\n",
              "      <td>NaN</td>\n",
              "      <td>NaN</td>\n",
              "      <td>NaN</td>\n",
              "      <td>NaN</td>\n",
              "      <td>NaN</td>\n",
              "      <td>NaN</td>\n",
              "      <td>NaN</td>\n",
              "      <td>NaN</td>\n",
              "      <td>NaN</td>\n",
              "      <td>NaN</td>\n",
              "      <td>NaN</td>\n",
              "      <td>NaN</td>\n",
              "      <td>NaN</td>\n",
              "      <td>NaN</td>\n",
              "      <td>NaN</td>\n",
              "      <td>NaN</td>\n",
              "      <td>NaN</td>\n",
              "      <td>NaN</td>\n",
              "      <td>NaN</td>\n",
              "      <td>NaN</td>\n",
              "      <td>NaN</td>\n",
              "      <td>NaN</td>\n",
              "      <td>NaN</td>\n",
              "      <td>NaN</td>\n",
              "      <td>NaN</td>\n",
              "      <td>NaN</td>\n",
              "      <td>NaN</td>\n",
              "      <td>NaN</td>\n",
              "      <td>NaN</td>\n",
              "      <td>NaN</td>\n",
              "      <td>NaN</td>\n",
              "      <td>NaN</td>\n",
              "      <td>NaN</td>\n",
              "      <td>...</td>\n",
              "      <td>NaN</td>\n",
              "      <td>NaN</td>\n",
              "      <td>NaN</td>\n",
              "      <td>NaN</td>\n",
              "      <td>NaN</td>\n",
              "      <td>NaN</td>\n",
              "      <td>NaN</td>\n",
              "      <td>NaN</td>\n",
              "      <td>NaN</td>\n",
              "      <td>NaN</td>\n",
              "      <td>NaN</td>\n",
              "      <td>NaN</td>\n",
              "      <td>NaN</td>\n",
              "      <td>NaN</td>\n",
              "      <td>NaN</td>\n",
              "      <td>NaN</td>\n",
              "      <td>NaN</td>\n",
              "      <td>NaN</td>\n",
              "      <td>NaN</td>\n",
              "      <td>NaN</td>\n",
              "      <td>NaN</td>\n",
              "      <td>NaN</td>\n",
              "      <td>NaN</td>\n",
              "      <td>NaN</td>\n",
              "      <td>NaN</td>\n",
              "      <td>NaN</td>\n",
              "      <td>NaN</td>\n",
              "      <td>NaN</td>\n",
              "      <td>NaN</td>\n",
              "      <td>NaN</td>\n",
              "      <td>NaN</td>\n",
              "      <td>NaN</td>\n",
              "      <td>NaN</td>\n",
              "      <td>NaN</td>\n",
              "      <td>NaN</td>\n",
              "      <td>NaN</td>\n",
              "      <td>NaN</td>\n",
              "      <td>NaN</td>\n",
              "      <td>NaN</td>\n",
              "      <td>NaN</td>\n",
              "    </tr>\n",
              "    <tr>\n",
              "      <th>68555</th>\n",
              "      <td>NaN</td>\n",
              "      <td>NaN</td>\n",
              "      <td>NaN</td>\n",
              "      <td>NaN</td>\n",
              "      <td>NaN</td>\n",
              "      <td>NaN</td>\n",
              "      <td>NaN</td>\n",
              "      <td>NaN</td>\n",
              "      <td>NaN</td>\n",
              "      <td>NaN</td>\n",
              "      <td>NaN</td>\n",
              "      <td>NaN</td>\n",
              "      <td>NaN</td>\n",
              "      <td>NaN</td>\n",
              "      <td>NaN</td>\n",
              "      <td>NaN</td>\n",
              "      <td>NaN</td>\n",
              "      <td>NaN</td>\n",
              "      <td>NaN</td>\n",
              "      <td>NaN</td>\n",
              "      <td>NaN</td>\n",
              "      <td>3.0</td>\n",
              "      <td>NaN</td>\n",
              "      <td>NaN</td>\n",
              "      <td>NaN</td>\n",
              "      <td>NaN</td>\n",
              "      <td>NaN</td>\n",
              "      <td>NaN</td>\n",
              "      <td>NaN</td>\n",
              "      <td>NaN</td>\n",
              "      <td>NaN</td>\n",
              "      <td>NaN</td>\n",
              "      <td>NaN</td>\n",
              "      <td>NaN</td>\n",
              "      <td>NaN</td>\n",
              "      <td>NaN</td>\n",
              "      <td>NaN</td>\n",
              "      <td>NaN</td>\n",
              "      <td>NaN</td>\n",
              "      <td>NaN</td>\n",
              "      <td>...</td>\n",
              "      <td>NaN</td>\n",
              "      <td>NaN</td>\n",
              "      <td>NaN</td>\n",
              "      <td>NaN</td>\n",
              "      <td>NaN</td>\n",
              "      <td>NaN</td>\n",
              "      <td>NaN</td>\n",
              "      <td>NaN</td>\n",
              "      <td>NaN</td>\n",
              "      <td>NaN</td>\n",
              "      <td>NaN</td>\n",
              "      <td>NaN</td>\n",
              "      <td>NaN</td>\n",
              "      <td>NaN</td>\n",
              "      <td>NaN</td>\n",
              "      <td>NaN</td>\n",
              "      <td>NaN</td>\n",
              "      <td>NaN</td>\n",
              "      <td>NaN</td>\n",
              "      <td>NaN</td>\n",
              "      <td>NaN</td>\n",
              "      <td>NaN</td>\n",
              "      <td>NaN</td>\n",
              "      <td>NaN</td>\n",
              "      <td>NaN</td>\n",
              "      <td>NaN</td>\n",
              "      <td>NaN</td>\n",
              "      <td>NaN</td>\n",
              "      <td>NaN</td>\n",
              "      <td>NaN</td>\n",
              "      <td>NaN</td>\n",
              "      <td>NaN</td>\n",
              "      <td>NaN</td>\n",
              "      <td>NaN</td>\n",
              "      <td>NaN</td>\n",
              "      <td>NaN</td>\n",
              "      <td>NaN</td>\n",
              "      <td>NaN</td>\n",
              "      <td>NaN</td>\n",
              "      <td>NaN</td>\n",
              "    </tr>\n",
              "    <tr>\n",
              "      <th>82893</th>\n",
              "      <td>NaN</td>\n",
              "      <td>NaN</td>\n",
              "      <td>NaN</td>\n",
              "      <td>NaN</td>\n",
              "      <td>NaN</td>\n",
              "      <td>NaN</td>\n",
              "      <td>NaN</td>\n",
              "      <td>NaN</td>\n",
              "      <td>NaN</td>\n",
              "      <td>NaN</td>\n",
              "      <td>NaN</td>\n",
              "      <td>NaN</td>\n",
              "      <td>NaN</td>\n",
              "      <td>NaN</td>\n",
              "      <td>NaN</td>\n",
              "      <td>NaN</td>\n",
              "      <td>NaN</td>\n",
              "      <td>NaN</td>\n",
              "      <td>NaN</td>\n",
              "      <td>NaN</td>\n",
              "      <td>NaN</td>\n",
              "      <td>NaN</td>\n",
              "      <td>NaN</td>\n",
              "      <td>NaN</td>\n",
              "      <td>NaN</td>\n",
              "      <td>NaN</td>\n",
              "      <td>NaN</td>\n",
              "      <td>NaN</td>\n",
              "      <td>NaN</td>\n",
              "      <td>NaN</td>\n",
              "      <td>NaN</td>\n",
              "      <td>NaN</td>\n",
              "      <td>NaN</td>\n",
              "      <td>NaN</td>\n",
              "      <td>NaN</td>\n",
              "      <td>NaN</td>\n",
              "      <td>NaN</td>\n",
              "      <td>NaN</td>\n",
              "      <td>NaN</td>\n",
              "      <td>NaN</td>\n",
              "      <td>...</td>\n",
              "      <td>NaN</td>\n",
              "      <td>NaN</td>\n",
              "      <td>NaN</td>\n",
              "      <td>NaN</td>\n",
              "      <td>NaN</td>\n",
              "      <td>NaN</td>\n",
              "      <td>NaN</td>\n",
              "      <td>NaN</td>\n",
              "      <td>NaN</td>\n",
              "      <td>NaN</td>\n",
              "      <td>NaN</td>\n",
              "      <td>NaN</td>\n",
              "      <td>NaN</td>\n",
              "      <td>NaN</td>\n",
              "      <td>NaN</td>\n",
              "      <td>NaN</td>\n",
              "      <td>NaN</td>\n",
              "      <td>NaN</td>\n",
              "      <td>NaN</td>\n",
              "      <td>NaN</td>\n",
              "      <td>NaN</td>\n",
              "      <td>NaN</td>\n",
              "      <td>NaN</td>\n",
              "      <td>NaN</td>\n",
              "      <td>NaN</td>\n",
              "      <td>NaN</td>\n",
              "      <td>NaN</td>\n",
              "      <td>NaN</td>\n",
              "      <td>NaN</td>\n",
              "      <td>NaN</td>\n",
              "      <td>NaN</td>\n",
              "      <td>NaN</td>\n",
              "      <td>NaN</td>\n",
              "      <td>NaN</td>\n",
              "      <td>NaN</td>\n",
              "      <td>NaN</td>\n",
              "      <td>NaN</td>\n",
              "      <td>NaN</td>\n",
              "      <td>NaN</td>\n",
              "      <td>NaN</td>\n",
              "    </tr>\n",
              "    <tr>\n",
              "      <th>87555</th>\n",
              "      <td>NaN</td>\n",
              "      <td>NaN</td>\n",
              "      <td>NaN</td>\n",
              "      <td>NaN</td>\n",
              "      <td>NaN</td>\n",
              "      <td>NaN</td>\n",
              "      <td>NaN</td>\n",
              "      <td>NaN</td>\n",
              "      <td>NaN</td>\n",
              "      <td>NaN</td>\n",
              "      <td>NaN</td>\n",
              "      <td>NaN</td>\n",
              "      <td>NaN</td>\n",
              "      <td>NaN</td>\n",
              "      <td>NaN</td>\n",
              "      <td>NaN</td>\n",
              "      <td>NaN</td>\n",
              "      <td>NaN</td>\n",
              "      <td>NaN</td>\n",
              "      <td>NaN</td>\n",
              "      <td>NaN</td>\n",
              "      <td>0.0</td>\n",
              "      <td>NaN</td>\n",
              "      <td>NaN</td>\n",
              "      <td>NaN</td>\n",
              "      <td>NaN</td>\n",
              "      <td>NaN</td>\n",
              "      <td>NaN</td>\n",
              "      <td>0.0</td>\n",
              "      <td>NaN</td>\n",
              "      <td>NaN</td>\n",
              "      <td>NaN</td>\n",
              "      <td>NaN</td>\n",
              "      <td>NaN</td>\n",
              "      <td>NaN</td>\n",
              "      <td>NaN</td>\n",
              "      <td>0.0</td>\n",
              "      <td>NaN</td>\n",
              "      <td>0.0</td>\n",
              "      <td>0.0</td>\n",
              "      <td>...</td>\n",
              "      <td>NaN</td>\n",
              "      <td>NaN</td>\n",
              "      <td>NaN</td>\n",
              "      <td>NaN</td>\n",
              "      <td>NaN</td>\n",
              "      <td>NaN</td>\n",
              "      <td>NaN</td>\n",
              "      <td>NaN</td>\n",
              "      <td>NaN</td>\n",
              "      <td>NaN</td>\n",
              "      <td>NaN</td>\n",
              "      <td>NaN</td>\n",
              "      <td>NaN</td>\n",
              "      <td>NaN</td>\n",
              "      <td>NaN</td>\n",
              "      <td>NaN</td>\n",
              "      <td>NaN</td>\n",
              "      <td>NaN</td>\n",
              "      <td>NaN</td>\n",
              "      <td>NaN</td>\n",
              "      <td>NaN</td>\n",
              "      <td>NaN</td>\n",
              "      <td>NaN</td>\n",
              "      <td>NaN</td>\n",
              "      <td>NaN</td>\n",
              "      <td>NaN</td>\n",
              "      <td>NaN</td>\n",
              "      <td>NaN</td>\n",
              "      <td>NaN</td>\n",
              "      <td>NaN</td>\n",
              "      <td>NaN</td>\n",
              "      <td>NaN</td>\n",
              "      <td>NaN</td>\n",
              "      <td>NaN</td>\n",
              "      <td>NaN</td>\n",
              "      <td>NaN</td>\n",
              "      <td>NaN</td>\n",
              "      <td>NaN</td>\n",
              "      <td>NaN</td>\n",
              "      <td>NaN</td>\n",
              "    </tr>\n",
              "    <tr>\n",
              "      <th>140036</th>\n",
              "      <td>NaN</td>\n",
              "      <td>NaN</td>\n",
              "      <td>NaN</td>\n",
              "      <td>NaN</td>\n",
              "      <td>NaN</td>\n",
              "      <td>NaN</td>\n",
              "      <td>NaN</td>\n",
              "      <td>NaN</td>\n",
              "      <td>NaN</td>\n",
              "      <td>NaN</td>\n",
              "      <td>NaN</td>\n",
              "      <td>NaN</td>\n",
              "      <td>NaN</td>\n",
              "      <td>NaN</td>\n",
              "      <td>NaN</td>\n",
              "      <td>NaN</td>\n",
              "      <td>NaN</td>\n",
              "      <td>NaN</td>\n",
              "      <td>NaN</td>\n",
              "      <td>NaN</td>\n",
              "      <td>NaN</td>\n",
              "      <td>NaN</td>\n",
              "      <td>NaN</td>\n",
              "      <td>NaN</td>\n",
              "      <td>NaN</td>\n",
              "      <td>NaN</td>\n",
              "      <td>NaN</td>\n",
              "      <td>8.0</td>\n",
              "      <td>NaN</td>\n",
              "      <td>NaN</td>\n",
              "      <td>NaN</td>\n",
              "      <td>NaN</td>\n",
              "      <td>NaN</td>\n",
              "      <td>NaN</td>\n",
              "      <td>NaN</td>\n",
              "      <td>NaN</td>\n",
              "      <td>NaN</td>\n",
              "      <td>NaN</td>\n",
              "      <td>NaN</td>\n",
              "      <td>NaN</td>\n",
              "      <td>...</td>\n",
              "      <td>NaN</td>\n",
              "      <td>NaN</td>\n",
              "      <td>NaN</td>\n",
              "      <td>NaN</td>\n",
              "      <td>NaN</td>\n",
              "      <td>NaN</td>\n",
              "      <td>NaN</td>\n",
              "      <td>NaN</td>\n",
              "      <td>NaN</td>\n",
              "      <td>NaN</td>\n",
              "      <td>NaN</td>\n",
              "      <td>NaN</td>\n",
              "      <td>NaN</td>\n",
              "      <td>NaN</td>\n",
              "      <td>NaN</td>\n",
              "      <td>NaN</td>\n",
              "      <td>NaN</td>\n",
              "      <td>NaN</td>\n",
              "      <td>NaN</td>\n",
              "      <td>NaN</td>\n",
              "      <td>NaN</td>\n",
              "      <td>NaN</td>\n",
              "      <td>NaN</td>\n",
              "      <td>NaN</td>\n",
              "      <td>NaN</td>\n",
              "      <td>NaN</td>\n",
              "      <td>NaN</td>\n",
              "      <td>NaN</td>\n",
              "      <td>NaN</td>\n",
              "      <td>NaN</td>\n",
              "      <td>NaN</td>\n",
              "      <td>NaN</td>\n",
              "      <td>NaN</td>\n",
              "      <td>NaN</td>\n",
              "      <td>NaN</td>\n",
              "      <td>NaN</td>\n",
              "      <td>NaN</td>\n",
              "      <td>NaN</td>\n",
              "      <td>NaN</td>\n",
              "      <td>NaN</td>\n",
              "    </tr>\n",
              "    <tr>\n",
              "      <th>198711</th>\n",
              "      <td>NaN</td>\n",
              "      <td>NaN</td>\n",
              "      <td>NaN</td>\n",
              "      <td>NaN</td>\n",
              "      <td>NaN</td>\n",
              "      <td>NaN</td>\n",
              "      <td>NaN</td>\n",
              "      <td>NaN</td>\n",
              "      <td>NaN</td>\n",
              "      <td>NaN</td>\n",
              "      <td>NaN</td>\n",
              "      <td>NaN</td>\n",
              "      <td>NaN</td>\n",
              "      <td>NaN</td>\n",
              "      <td>NaN</td>\n",
              "      <td>NaN</td>\n",
              "      <td>NaN</td>\n",
              "      <td>NaN</td>\n",
              "      <td>NaN</td>\n",
              "      <td>NaN</td>\n",
              "      <td>NaN</td>\n",
              "      <td>NaN</td>\n",
              "      <td>NaN</td>\n",
              "      <td>NaN</td>\n",
              "      <td>0.0</td>\n",
              "      <td>0.0</td>\n",
              "      <td>NaN</td>\n",
              "      <td>NaN</td>\n",
              "      <td>NaN</td>\n",
              "      <td>NaN</td>\n",
              "      <td>0.0</td>\n",
              "      <td>NaN</td>\n",
              "      <td>NaN</td>\n",
              "      <td>NaN</td>\n",
              "      <td>NaN</td>\n",
              "      <td>NaN</td>\n",
              "      <td>NaN</td>\n",
              "      <td>NaN</td>\n",
              "      <td>NaN</td>\n",
              "      <td>NaN</td>\n",
              "      <td>...</td>\n",
              "      <td>NaN</td>\n",
              "      <td>NaN</td>\n",
              "      <td>NaN</td>\n",
              "      <td>NaN</td>\n",
              "      <td>NaN</td>\n",
              "      <td>NaN</td>\n",
              "      <td>NaN</td>\n",
              "      <td>NaN</td>\n",
              "      <td>NaN</td>\n",
              "      <td>NaN</td>\n",
              "      <td>NaN</td>\n",
              "      <td>NaN</td>\n",
              "      <td>NaN</td>\n",
              "      <td>NaN</td>\n",
              "      <td>NaN</td>\n",
              "      <td>NaN</td>\n",
              "      <td>NaN</td>\n",
              "      <td>NaN</td>\n",
              "      <td>NaN</td>\n",
              "      <td>NaN</td>\n",
              "      <td>NaN</td>\n",
              "      <td>NaN</td>\n",
              "      <td>NaN</td>\n",
              "      <td>NaN</td>\n",
              "      <td>NaN</td>\n",
              "      <td>NaN</td>\n",
              "      <td>NaN</td>\n",
              "      <td>NaN</td>\n",
              "      <td>NaN</td>\n",
              "      <td>NaN</td>\n",
              "      <td>NaN</td>\n",
              "      <td>NaN</td>\n",
              "      <td>NaN</td>\n",
              "      <td>NaN</td>\n",
              "      <td>NaN</td>\n",
              "      <td>NaN</td>\n",
              "      <td>NaN</td>\n",
              "      <td>NaN</td>\n",
              "      <td>NaN</td>\n",
              "      <td>NaN</td>\n",
              "    </tr>\n",
              "    <tr>\n",
              "      <th>232131</th>\n",
              "      <td>NaN</td>\n",
              "      <td>NaN</td>\n",
              "      <td>NaN</td>\n",
              "      <td>NaN</td>\n",
              "      <td>NaN</td>\n",
              "      <td>NaN</td>\n",
              "      <td>NaN</td>\n",
              "      <td>NaN</td>\n",
              "      <td>NaN</td>\n",
              "      <td>NaN</td>\n",
              "      <td>NaN</td>\n",
              "      <td>NaN</td>\n",
              "      <td>NaN</td>\n",
              "      <td>NaN</td>\n",
              "      <td>NaN</td>\n",
              "      <td>NaN</td>\n",
              "      <td>NaN</td>\n",
              "      <td>NaN</td>\n",
              "      <td>NaN</td>\n",
              "      <td>NaN</td>\n",
              "      <td>NaN</td>\n",
              "      <td>NaN</td>\n",
              "      <td>NaN</td>\n",
              "      <td>NaN</td>\n",
              "      <td>NaN</td>\n",
              "      <td>NaN</td>\n",
              "      <td>NaN</td>\n",
              "      <td>NaN</td>\n",
              "      <td>NaN</td>\n",
              "      <td>NaN</td>\n",
              "      <td>NaN</td>\n",
              "      <td>NaN</td>\n",
              "      <td>NaN</td>\n",
              "      <td>NaN</td>\n",
              "      <td>NaN</td>\n",
              "      <td>NaN</td>\n",
              "      <td>NaN</td>\n",
              "      <td>NaN</td>\n",
              "      <td>NaN</td>\n",
              "      <td>NaN</td>\n",
              "      <td>...</td>\n",
              "      <td>NaN</td>\n",
              "      <td>NaN</td>\n",
              "      <td>NaN</td>\n",
              "      <td>NaN</td>\n",
              "      <td>NaN</td>\n",
              "      <td>NaN</td>\n",
              "      <td>NaN</td>\n",
              "      <td>NaN</td>\n",
              "      <td>NaN</td>\n",
              "      <td>NaN</td>\n",
              "      <td>NaN</td>\n",
              "      <td>NaN</td>\n",
              "      <td>NaN</td>\n",
              "      <td>NaN</td>\n",
              "      <td>NaN</td>\n",
              "      <td>NaN</td>\n",
              "      <td>NaN</td>\n",
              "      <td>NaN</td>\n",
              "      <td>NaN</td>\n",
              "      <td>NaN</td>\n",
              "      <td>NaN</td>\n",
              "      <td>NaN</td>\n",
              "      <td>NaN</td>\n",
              "      <td>NaN</td>\n",
              "      <td>NaN</td>\n",
              "      <td>NaN</td>\n",
              "      <td>NaN</td>\n",
              "      <td>NaN</td>\n",
              "      <td>NaN</td>\n",
              "      <td>NaN</td>\n",
              "      <td>NaN</td>\n",
              "      <td>NaN</td>\n",
              "      <td>NaN</td>\n",
              "      <td>NaN</td>\n",
              "      <td>NaN</td>\n",
              "      <td>NaN</td>\n",
              "      <td>NaN</td>\n",
              "      <td>NaN</td>\n",
              "      <td>NaN</td>\n",
              "      <td>NaN</td>\n",
              "    </tr>\n",
              "    <tr>\n",
              "      <th>251422</th>\n",
              "      <td>NaN</td>\n",
              "      <td>NaN</td>\n",
              "      <td>NaN</td>\n",
              "      <td>NaN</td>\n",
              "      <td>NaN</td>\n",
              "      <td>NaN</td>\n",
              "      <td>NaN</td>\n",
              "      <td>NaN</td>\n",
              "      <td>NaN</td>\n",
              "      <td>NaN</td>\n",
              "      <td>NaN</td>\n",
              "      <td>NaN</td>\n",
              "      <td>NaN</td>\n",
              "      <td>NaN</td>\n",
              "      <td>NaN</td>\n",
              "      <td>NaN</td>\n",
              "      <td>NaN</td>\n",
              "      <td>NaN</td>\n",
              "      <td>NaN</td>\n",
              "      <td>NaN</td>\n",
              "      <td>NaN</td>\n",
              "      <td>NaN</td>\n",
              "      <td>NaN</td>\n",
              "      <td>NaN</td>\n",
              "      <td>NaN</td>\n",
              "      <td>NaN</td>\n",
              "      <td>0.0</td>\n",
              "      <td>NaN</td>\n",
              "      <td>NaN</td>\n",
              "      <td>NaN</td>\n",
              "      <td>NaN</td>\n",
              "      <td>NaN</td>\n",
              "      <td>NaN</td>\n",
              "      <td>NaN</td>\n",
              "      <td>NaN</td>\n",
              "      <td>NaN</td>\n",
              "      <td>NaN</td>\n",
              "      <td>NaN</td>\n",
              "      <td>NaN</td>\n",
              "      <td>NaN</td>\n",
              "      <td>...</td>\n",
              "      <td>NaN</td>\n",
              "      <td>NaN</td>\n",
              "      <td>NaN</td>\n",
              "      <td>NaN</td>\n",
              "      <td>NaN</td>\n",
              "      <td>NaN</td>\n",
              "      <td>NaN</td>\n",
              "      <td>NaN</td>\n",
              "      <td>NaN</td>\n",
              "      <td>NaN</td>\n",
              "      <td>NaN</td>\n",
              "      <td>NaN</td>\n",
              "      <td>NaN</td>\n",
              "      <td>NaN</td>\n",
              "      <td>NaN</td>\n",
              "      <td>NaN</td>\n",
              "      <td>NaN</td>\n",
              "      <td>NaN</td>\n",
              "      <td>NaN</td>\n",
              "      <td>NaN</td>\n",
              "      <td>NaN</td>\n",
              "      <td>NaN</td>\n",
              "      <td>NaN</td>\n",
              "      <td>NaN</td>\n",
              "      <td>NaN</td>\n",
              "      <td>NaN</td>\n",
              "      <td>NaN</td>\n",
              "      <td>NaN</td>\n",
              "      <td>NaN</td>\n",
              "      <td>NaN</td>\n",
              "      <td>NaN</td>\n",
              "      <td>NaN</td>\n",
              "      <td>NaN</td>\n",
              "      <td>NaN</td>\n",
              "      <td>NaN</td>\n",
              "      <td>NaN</td>\n",
              "      <td>NaN</td>\n",
              "      <td>NaN</td>\n",
              "      <td>NaN</td>\n",
              "      <td>NaN</td>\n",
              "    </tr>\n",
              "  </tbody>\n",
              "</table>\n",
              "<p>10 rows × 15451 columns</p>\n",
              "</div>"
            ],
            "text/plain": [
              "isbn    0002005018  0002251760  0002259834  ...  9681500830  9681500954  9871138016\n",
              "user                                        ...                                    \n",
              "7346           NaN         NaN         NaN  ...         NaN         NaN         NaN\n",
              "16795          NaN         NaN         NaN  ...         NaN         NaN         NaN\n",
              "48046          NaN         NaN         NaN  ...         NaN         NaN         NaN\n",
              "68555          NaN         NaN         NaN  ...         NaN         NaN         NaN\n",
              "82893          NaN         NaN         NaN  ...         NaN         NaN         NaN\n",
              "87555          NaN         NaN         NaN  ...         NaN         NaN         NaN\n",
              "140036         NaN         NaN         NaN  ...         NaN         NaN         NaN\n",
              "198711         NaN         NaN         NaN  ...         NaN         NaN         NaN\n",
              "232131         NaN         NaN         NaN  ...         NaN         NaN         NaN\n",
              "251422         NaN         NaN         NaN  ...         NaN         NaN         NaN\n",
              "\n",
              "[10 rows x 15451 columns]"
            ]
          },
          "metadata": {
            "tags": []
          },
          "execution_count": 31
        }
      ]
    },
    {
      "cell_type": "code",
      "metadata": {
        "colab": {
          "base_uri": "https://localhost:8080/"
        },
        "id": "d4lMlBweqVWu",
        "outputId": "7cce83cb-80f0-483d-bd15-4179da238c06"
      },
      "source": [
        "# taking the average ratings of the nearest neighbors for the books\n",
        "avg_rating = nn_ratings.mean(skipna=True).dropna()\n",
        "avg_rating.head()"
      ],
      "execution_count": 32,
      "outputs": [
        {
          "output_type": "execute_result",
          "data": {
            "text/plain": [
              "isbn\n",
              "0007154615    1.5\n",
              "0020125305    0.0\n",
              "0020125607    0.0\n",
              "0020198817    0.0\n",
              "0020198906    8.0\n",
              "dtype: float64"
            ]
          },
          "metadata": {
            "tags": []
          },
          "execution_count": 32
        }
      ]
    },
    {
      "cell_type": "code",
      "metadata": {
        "colab": {
          "base_uri": "https://localhost:8080/"
        },
        "id": "le45uey4rKhP",
        "outputId": "f188ade4-ba04-47ea-b394-1173100b10a4"
      },
      "source": [
        "# finding books that have been already read by current user\n",
        "books_aleardy_read = user_item_rating_matrix.transpose()[user].dropna().index\n",
        "books_aleardy_read"
      ],
      "execution_count": 33,
      "outputs": [
        {
          "output_type": "execute_result",
          "data": {
            "text/plain": [
              "Index(['006016848X', '0060935464', '0140042598', '0140178724', '0142004278',\n",
              "       '0380732238', '0385504209', '0425109720', '0425152898', '0440136482',\n",
              "       '0440241162', '0451191145', '0451197127', '0553096060', '0671027360',\n",
              "       '0671027387', '0671666258', '0688174574', '0743225708', '076790592X',\n",
              "       '0785264280', '0786868716', '0802131867', '0802132952', '0971880107',\n",
              "       '1853260045', '1853260126', '1853260207', '185326041X', '1878424114'],\n",
              "      dtype='object', name='isbn')"
            ]
          },
          "metadata": {
            "tags": []
          },
          "execution_count": 33
        }
      ]
    },
    {
      "cell_type": "code",
      "metadata": {
        "id": "2Ybk07J7rraf"
      },
      "source": [
        "# take the ratings only for the books that have been not read by the user\n",
        "ratings = avg_rating[~ avg_rating.index.isin(books_aleardy_read)]"
      ],
      "execution_count": 34,
      "outputs": []
    },
    {
      "cell_type": "code",
      "metadata": {
        "id": "FFJ90ZVoso4W",
        "colab": {
          "base_uri": "https://localhost:8080/"
        },
        "outputId": "7d56b7a3-9d29-4268-f5eb-34c0635992b5"
      },
      "source": [
        "ratings"
      ],
      "execution_count": null,
      "outputs": [
        {
          "output_type": "execute_result",
          "data": {
            "text/plain": [
              "isbn\n",
              "0007154615    1.5\n",
              "0020125305    0.0\n",
              "0020125607    0.0\n",
              "0020198817    0.0\n",
              "0020198906    8.0\n",
              "             ... \n",
              "1883473004    0.0\n",
              "1885171080    0.0\n",
              "1885211066    0.0\n",
              "1885211279    6.0\n",
              "193156146X    0.0\n",
              "Length: 4738, dtype: float64"
            ]
          },
          "metadata": {
            "tags": []
          },
          "execution_count": 32
        }
      ]
    },
    {
      "cell_type": "code",
      "metadata": {
        "colab": {
          "base_uri": "https://localhost:8080/"
        },
        "id": "PDsULDe_sOfh",
        "outputId": "32aac826-4d61-4675-dfb6-fc42318426cd"
      },
      "source": [
        "# get top 3 books having highest average ratings\n",
        "N = 3\n",
        "top_n_isbns = ratings.sort_values(ascending=False).index[:N]\n",
        "top_n_isbns"
      ],
      "execution_count": 35,
      "outputs": [
        {
          "output_type": "execute_result",
          "data": {
            "text/plain": [
              "Index(['0553802976', '0618002235', '0590353403'], dtype='object', name='isbn')"
            ]
          },
          "metadata": {
            "tags": []
          },
          "execution_count": 35
        }
      ]
    },
    {
      "cell_type": "code",
      "metadata": {
        "colab": {
          "base_uri": "https://localhost:8080/"
        },
        "id": "MAxsMZRRstPD",
        "outputId": "0c72eb35-bd56-411d-d0bc-203ad57a7d6e"
      },
      "source": [
        "# extracting metadata for the isbns\n",
        "pd.Series(top_n_isbns).apply(bookMeta)"
      ],
      "execution_count": 36,
      "outputs": [
        {
          "output_type": "execute_result",
          "data": {
            "text/plain": [
              "0              (Love, Greg &amp; Lauren, Greg Manning)\n",
              "1    (The Two Towers (The Lord of the Rings, Part 2...\n",
              "2    (Harry Potter and the Sorcerer's Stone (Book 1...\n",
              "Name: isbn, dtype: object"
            ]
          },
          "metadata": {
            "tags": []
          },
          "execution_count": 36
        }
      ]
    },
    {
      "cell_type": "code",
      "metadata": {
        "id": "cU6C62y8szPf"
      },
      "source": [
        "# putting everything into a function\n",
        "def topN(user, N=3):\n",
        "  k_nearest_users = nearest_negihbors(user)\n",
        "  nn_ratings = user_item_rating_matrix[user_item_rating_matrix.index.isin(k_nearest_users)]\n",
        "  avg_rating = nn_ratings.mean(skipna=True).dropna()\n",
        "  books_aleardy_read = user_item_rating_matrix.transpose()[user].dropna().index\n",
        "  avg_ratings = avg_rating[~ avg_rating.index.isin(books_aleardy_read)]\n",
        "  top_n_isbns = avg_ratings.sort_values(ascending = False).index[:N]\n",
        "  return pd.Series(top_n_isbns).apply(bookMeta)"
      ],
      "execution_count": 37,
      "outputs": []
    },
    {
      "cell_type": "code",
      "metadata": {
        "id": "0qHp24cVt97q"
      },
      "source": [
        ""
      ],
      "execution_count": null,
      "outputs": []
    },
    {
      "cell_type": "markdown",
      "metadata": {
        "id": "yArn35YJvvU1"
      },
      "source": [
        "**Recommending book to a user**"
      ]
    },
    {
      "cell_type": "code",
      "metadata": {
        "colab": {
          "base_uri": "https://localhost:8080/",
          "height": 355
        },
        "id": "XQOqxus4t9sJ",
        "outputId": "28b08e0c-7dd6-4f30-9791-5a081fbc9bf6"
      },
      "source": [
        "# printing favorite books for the given user\n",
        "pd.set_option('display.max_colwidth', None)\n",
        "user = 204813\n",
        "favBooks(user, 10)"
      ],
      "execution_count": 38,
      "outputs": [
        {
          "output_type": "execute_result",
          "data": {
            "text/html": [
              "<div>\n",
              "<style scoped>\n",
              "    .dataframe tbody tr th:only-of-type {\n",
              "        vertical-align: middle;\n",
              "    }\n",
              "\n",
              "    .dataframe tbody tr th {\n",
              "        vertical-align: top;\n",
              "    }\n",
              "\n",
              "    .dataframe thead th {\n",
              "        text-align: right;\n",
              "    }\n",
              "</style>\n",
              "<table border=\"1\" class=\"dataframe\">\n",
              "  <thead>\n",
              "    <tr style=\"text-align: right;\">\n",
              "      <th></th>\n",
              "      <th>user</th>\n",
              "      <th>isbn</th>\n",
              "      <th>rating</th>\n",
              "      <th>title</th>\n",
              "    </tr>\n",
              "  </thead>\n",
              "  <tbody>\n",
              "    <tr>\n",
              "      <th>845417</th>\n",
              "      <td>204813</td>\n",
              "      <td>0399149848</td>\n",
              "      <td>10</td>\n",
              "      <td>(Birthright, Nora Roberts)</td>\n",
              "    </tr>\n",
              "    <tr>\n",
              "      <th>845407</th>\n",
              "      <td>204813</td>\n",
              "      <td>0385504209</td>\n",
              "      <td>10</td>\n",
              "      <td>(The Da Vinci Code, Dan Brown)</td>\n",
              "    </tr>\n",
              "    <tr>\n",
              "      <th>845382</th>\n",
              "      <td>204813</td>\n",
              "      <td>0373218036</td>\n",
              "      <td>10</td>\n",
              "      <td>(Truly, Madly Manhattan, Nora Roberts)</td>\n",
              "    </tr>\n",
              "    <tr>\n",
              "      <th>845359</th>\n",
              "      <td>204813</td>\n",
              "      <td>0142001805</td>\n",
              "      <td>10</td>\n",
              "      <td>(The Eyre Affair: A Novel, Jasper Fforde)</td>\n",
              "    </tr>\n",
              "    <tr>\n",
              "      <th>845431</th>\n",
              "      <td>204813</td>\n",
              "      <td>0446527793</td>\n",
              "      <td>10</td>\n",
              "      <td>(The Guardian, Nicholas Sparks)</td>\n",
              "    </tr>\n",
              "    <tr>\n",
              "      <th>845416</th>\n",
              "      <td>204813</td>\n",
              "      <td>0399149392</td>\n",
              "      <td>10</td>\n",
              "      <td>(Chesapeake Blue (Quinn Brothers (Hardcover)), Nora Roberts)</td>\n",
              "    </tr>\n",
              "    <tr>\n",
              "      <th>845432</th>\n",
              "      <td>204813</td>\n",
              "      <td>0446531332</td>\n",
              "      <td>9</td>\n",
              "      <td>(Nights in Rodanthe, Nicholas Sparks)</td>\n",
              "    </tr>\n",
              "    <tr>\n",
              "      <th>845434</th>\n",
              "      <td>204813</td>\n",
              "      <td>0446606243</td>\n",
              "      <td>9</td>\n",
              "      <td>(The Tenth Justice, Brad Meltzer)</td>\n",
              "    </tr>\n",
              "    <tr>\n",
              "      <th>845451</th>\n",
              "      <td>204813</td>\n",
              "      <td>0671027360</td>\n",
              "      <td>9</td>\n",
              "      <td>(Angels &amp;amp; Demons, Dan Brown)</td>\n",
              "    </tr>\n",
              "    <tr>\n",
              "      <th>845433</th>\n",
              "      <td>204813</td>\n",
              "      <td>0446532452</td>\n",
              "      <td>9</td>\n",
              "      <td>(The Wedding, Nicholas Sparks)</td>\n",
              "    </tr>\n",
              "  </tbody>\n",
              "</table>\n",
              "</div>"
            ],
            "text/plain": [
              "          user  ...                                                         title\n",
              "845417  204813  ...                                    (Birthright, Nora Roberts)\n",
              "845407  204813  ...                                (The Da Vinci Code, Dan Brown)\n",
              "845382  204813  ...                        (Truly, Madly Manhattan, Nora Roberts)\n",
              "845359  204813  ...                     (The Eyre Affair: A Novel, Jasper Fforde)\n",
              "845431  204813  ...                               (The Guardian, Nicholas Sparks)\n",
              "845416  204813  ...  (Chesapeake Blue (Quinn Brothers (Hardcover)), Nora Roberts)\n",
              "845432  204813  ...                         (Nights in Rodanthe, Nicholas Sparks)\n",
              "845434  204813  ...                             (The Tenth Justice, Brad Meltzer)\n",
              "845451  204813  ...                              (Angels &amp; Demons, Dan Brown)\n",
              "845433  204813  ...                                (The Wedding, Nicholas Sparks)\n",
              "\n",
              "[10 rows x 4 columns]"
            ]
          },
          "metadata": {
            "tags": []
          },
          "execution_count": 38
        }
      ]
    },
    {
      "cell_type": "code",
      "metadata": {
        "id": "Jyk8jCnXuCEN"
      },
      "source": [
        "# getting top 10 recommendations for the user\n",
        "top_recommendation = topN(user, 10)"
      ],
      "execution_count": 39,
      "outputs": []
    },
    {
      "cell_type": "code",
      "metadata": {
        "id": "ch7Le1YxwXAv"
      },
      "source": [
        "pd.set_option('display.max_colwidth', None)\n",
        "book = top_recommendation.apply(lambda x: x[0])\n",
        "author = top_recommendation.apply(lambda x: x[1])"
      ],
      "execution_count": 40,
      "outputs": []
    },
    {
      "cell_type": "code",
      "metadata": {
        "colab": {
          "base_uri": "https://localhost:8080/",
          "height": 355
        },
        "id": "eP-s7E9bwiux",
        "outputId": "e7b39e6c-7bf8-405c-bb1a-100e9ee9121a"
      },
      "source": [
        "# recommendation\n",
        "pd.DataFrame({'Book':book, 'Author':author})\n"
      ],
      "execution_count": 44,
      "outputs": [
        {
          "output_type": "execute_result",
          "data": {
            "text/html": [
              "<div>\n",
              "<style scoped>\n",
              "    .dataframe tbody tr th:only-of-type {\n",
              "        vertical-align: middle;\n",
              "    }\n",
              "\n",
              "    .dataframe tbody tr th {\n",
              "        vertical-align: top;\n",
              "    }\n",
              "\n",
              "    .dataframe thead th {\n",
              "        text-align: right;\n",
              "    }\n",
              "</style>\n",
              "<table border=\"1\" class=\"dataframe\">\n",
              "  <thead>\n",
              "    <tr style=\"text-align: right;\">\n",
              "      <th></th>\n",
              "      <th>Book</th>\n",
              "      <th>Author</th>\n",
              "    </tr>\n",
              "  </thead>\n",
              "  <tbody>\n",
              "    <tr>\n",
              "      <th>0</th>\n",
              "      <td>Waiting For Nick (Silhouette Special Edition)</td>\n",
              "      <td>Nora Roberts</td>\n",
              "    </tr>\n",
              "    <tr>\n",
              "      <th>1</th>\n",
              "      <td>Wringer (Trophy Newbery)</td>\n",
              "      <td>Jerry Spinelli</td>\n",
              "    </tr>\n",
              "    <tr>\n",
              "      <th>2</th>\n",
              "      <td>The Star Wars Trilogy: Star Wars, the Empire Strikes Back, Return of the Jedi</td>\n",
              "      <td>George Lucas</td>\n",
              "    </tr>\n",
              "    <tr>\n",
              "      <th>3</th>\n",
              "      <td>One, Two, Buckle My Shoe</td>\n",
              "      <td>Agatha Christie</td>\n",
              "    </tr>\n",
              "    <tr>\n",
              "      <th>4</th>\n",
              "      <td>On the Road</td>\n",
              "      <td>Jack Kerouac</td>\n",
              "    </tr>\n",
              "    <tr>\n",
              "      <th>5</th>\n",
              "      <td>Dead Poets Society</td>\n",
              "      <td>N.H. Kleinbaum</td>\n",
              "    </tr>\n",
              "    <tr>\n",
              "      <th>6</th>\n",
              "      <td>Go Ask Alice (Avon/Flare Book)</td>\n",
              "      <td>James Jennings</td>\n",
              "    </tr>\n",
              "    <tr>\n",
              "      <th>7</th>\n",
              "      <td>Carolina Moon</td>\n",
              "      <td>Nora Roberts</td>\n",
              "    </tr>\n",
              "    <tr>\n",
              "      <th>8</th>\n",
              "      <td>Illusions: The Adventures of a Reluctant Messiah</td>\n",
              "      <td>Richard Bach</td>\n",
              "    </tr>\n",
              "    <tr>\n",
              "      <th>9</th>\n",
              "      <td>You Just Don't Duct Tape a Baby!: True Tales and Sensible Suggestions from a Veteran Pediatrician</td>\n",
              "      <td>Norman Weinberger</td>\n",
              "    </tr>\n",
              "  </tbody>\n",
              "</table>\n",
              "</div>"
            ],
            "text/plain": [
              "                                                                                                Book             Author\n",
              "0                                                      Waiting For Nick (Silhouette Special Edition)       Nora Roberts\n",
              "1                                                                           Wringer (Trophy Newbery)     Jerry Spinelli\n",
              "2                      The Star Wars Trilogy: Star Wars, the Empire Strikes Back, Return of the Jedi       George Lucas\n",
              "3                                                                           One, Two, Buckle My Shoe    Agatha Christie\n",
              "4                                                                                        On the Road       Jack Kerouac\n",
              "5                                                                                 Dead Poets Society     N.H. Kleinbaum\n",
              "6                                                                     Go Ask Alice (Avon/Flare Book)     James Jennings\n",
              "7                                                                                      Carolina Moon       Nora Roberts\n",
              "8                                                   Illusions: The Adventures of a Reluctant Messiah       Richard Bach\n",
              "9  You Just Don't Duct Tape a Baby!: True Tales and Sensible Suggestions from a Veteran Pediatrician  Norman Weinberger"
            ]
          },
          "metadata": {
            "tags": []
          },
          "execution_count": 44
        }
      ]
    },
    {
      "cell_type": "markdown",
      "metadata": {
        "id": "Ad-JPuk3zZnn"
      },
      "source": [
        "Looking from the recommended books, we can see that it consists of two books by the author 'Nora Roberts', which also appears three times in the favourites book list of the user. So, we see that our recommendation is working good.\n",
        "\n",
        "We can try again for some other user."
      ]
    },
    {
      "cell_type": "code",
      "metadata": {
        "colab": {
          "base_uri": "https://localhost:8080/",
          "height": 355
        },
        "id": "VxZhPXc0wmqf",
        "outputId": "5b6d0514-3ef2-4afa-e98e-886e5f662662"
      },
      "source": [
        "pd.set_option('display.max_colwidth', None)\n",
        "user = 48046\n",
        "favBooks(user, 10)"
      ],
      "execution_count": 45,
      "outputs": [
        {
          "output_type": "execute_result",
          "data": {
            "text/html": [
              "<div>\n",
              "<style scoped>\n",
              "    .dataframe tbody tr th:only-of-type {\n",
              "        vertical-align: middle;\n",
              "    }\n",
              "\n",
              "    .dataframe tbody tr th {\n",
              "        vertical-align: top;\n",
              "    }\n",
              "\n",
              "    .dataframe thead th {\n",
              "        text-align: right;\n",
              "    }\n",
              "</style>\n",
              "<table border=\"1\" class=\"dataframe\">\n",
              "  <thead>\n",
              "    <tr style=\"text-align: right;\">\n",
              "      <th></th>\n",
              "      <th>user</th>\n",
              "      <th>isbn</th>\n",
              "      <th>rating</th>\n",
              "      <th>title</th>\n",
              "    </tr>\n",
              "  </thead>\n",
              "  <tbody>\n",
              "    <tr>\n",
              "      <th>207955</th>\n",
              "      <td>48046</td>\n",
              "      <td>0060199652</td>\n",
              "      <td>10</td>\n",
              "      <td>(Prodigal Summer, Barbara Kingsolver)</td>\n",
              "    </tr>\n",
              "    <tr>\n",
              "      <th>207957</th>\n",
              "      <td>48046</td>\n",
              "      <td>0060391626</td>\n",
              "      <td>10</td>\n",
              "      <td>(I Know This Much Is True (Oprah's Book Club), Wally Lamb)</td>\n",
              "    </tr>\n",
              "    <tr>\n",
              "      <th>208075</th>\n",
              "      <td>48046</td>\n",
              "      <td>0609609521</td>\n",
              "      <td>10</td>\n",
              "      <td>(When the Elephants Dance : A Novel, TESS URIZA HOLTHE)</td>\n",
              "    </tr>\n",
              "    <tr>\n",
              "      <th>208027</th>\n",
              "      <td>48046</td>\n",
              "      <td>0446391301</td>\n",
              "      <td>10</td>\n",
              "      <td>(Geek Love, Katherine Dunn)</td>\n",
              "    </tr>\n",
              "    <tr>\n",
              "      <th>208097</th>\n",
              "      <td>48046</td>\n",
              "      <td>068486441X</td>\n",
              "      <td>10</td>\n",
              "      <td>(Eating The Cheshire Cat: A Novel, Helen Ellis)</td>\n",
              "    </tr>\n",
              "    <tr>\n",
              "      <th>208014</th>\n",
              "      <td>48046</td>\n",
              "      <td>0385504209</td>\n",
              "      <td>10</td>\n",
              "      <td>(The Da Vinci Code, Dan Brown)</td>\n",
              "    </tr>\n",
              "    <tr>\n",
              "      <th>207979</th>\n",
              "      <td>48046</td>\n",
              "      <td>0156027321</td>\n",
              "      <td>10</td>\n",
              "      <td>(Life of Pi, Yann Martel)</td>\n",
              "    </tr>\n",
              "    <tr>\n",
              "      <th>208037</th>\n",
              "      <td>48046</td>\n",
              "      <td>0451187849</td>\n",
              "      <td>10</td>\n",
              "      <td>(We the Living, Ayn Rand)</td>\n",
              "    </tr>\n",
              "    <tr>\n",
              "      <th>208103</th>\n",
              "      <td>48046</td>\n",
              "      <td>0743467523</td>\n",
              "      <td>9</td>\n",
              "      <td>(Dreamcatcher, Stephen King)</td>\n",
              "    </tr>\n",
              "    <tr>\n",
              "      <th>208061</th>\n",
              "      <td>48046</td>\n",
              "      <td>0553580191</td>\n",
              "      <td>9</td>\n",
              "      <td>(Seize the Night, DEAN KOONTZ)</td>\n",
              "    </tr>\n",
              "  </tbody>\n",
              "</table>\n",
              "</div>"
            ],
            "text/plain": [
              "         user  ...                                                       title\n",
              "207955  48046  ...                       (Prodigal Summer, Barbara Kingsolver)\n",
              "207957  48046  ...  (I Know This Much Is True (Oprah's Book Club), Wally Lamb)\n",
              "208075  48046  ...     (When the Elephants Dance : A Novel, TESS URIZA HOLTHE)\n",
              "208027  48046  ...                                 (Geek Love, Katherine Dunn)\n",
              "208097  48046  ...             (Eating The Cheshire Cat: A Novel, Helen Ellis)\n",
              "208014  48046  ...                              (The Da Vinci Code, Dan Brown)\n",
              "207979  48046  ...                                   (Life of Pi, Yann Martel)\n",
              "208037  48046  ...                                   (We the Living, Ayn Rand)\n",
              "208103  48046  ...                                (Dreamcatcher, Stephen King)\n",
              "208061  48046  ...                              (Seize the Night, DEAN KOONTZ)\n",
              "\n",
              "[10 rows x 4 columns]"
            ]
          },
          "metadata": {
            "tags": []
          },
          "execution_count": 45
        }
      ]
    },
    {
      "cell_type": "code",
      "metadata": {
        "id": "ORgpznSU0COn"
      },
      "source": [
        "# getting top 10 recommendations for the user\n",
        "top_recommendation = topN(user, 10)"
      ],
      "execution_count": 46,
      "outputs": []
    },
    {
      "cell_type": "code",
      "metadata": {
        "colab": {
          "base_uri": "https://localhost:8080/",
          "height": 355
        },
        "id": "CPvhIja10HDf",
        "outputId": "a48d5feb-9d7d-492a-f982-bf75a8d2d1bf"
      },
      "source": [
        "book = top_recommendation.apply(lambda x: x[0])\n",
        "author = top_recommendation.apply(lambda x: x[1])\n",
        "# recommendation\n",
        "pd.DataFrame({'Book':book, 'Author':author})"
      ],
      "execution_count": 47,
      "outputs": [
        {
          "output_type": "execute_result",
          "data": {
            "text/html": [
              "<div>\n",
              "<style scoped>\n",
              "    .dataframe tbody tr th:only-of-type {\n",
              "        vertical-align: middle;\n",
              "    }\n",
              "\n",
              "    .dataframe tbody tr th {\n",
              "        vertical-align: top;\n",
              "    }\n",
              "\n",
              "    .dataframe thead th {\n",
              "        text-align: right;\n",
              "    }\n",
              "</style>\n",
              "<table border=\"1\" class=\"dataframe\">\n",
              "  <thead>\n",
              "    <tr style=\"text-align: right;\">\n",
              "      <th></th>\n",
              "      <th>Book</th>\n",
              "      <th>Author</th>\n",
              "    </tr>\n",
              "  </thead>\n",
              "  <tbody>\n",
              "    <tr>\n",
              "      <th>0</th>\n",
              "      <td>Riding Shotgun</td>\n",
              "      <td>Rita Mae Brown</td>\n",
              "    </tr>\n",
              "    <tr>\n",
              "      <th>1</th>\n",
              "      <td>Skyward</td>\n",
              "      <td>Mary Alice Monroe</td>\n",
              "    </tr>\n",
              "    <tr>\n",
              "      <th>2</th>\n",
              "      <td>The Odyssey</td>\n",
              "      <td>Robert Fagles</td>\n",
              "    </tr>\n",
              "    <tr>\n",
              "      <th>3</th>\n",
              "      <td>Falling Leaves Brit Edition</td>\n",
              "      <td>Adeline Yen Mah</td>\n",
              "    </tr>\n",
              "    <tr>\n",
              "      <th>4</th>\n",
              "      <td>Welcome to the Monkey House</td>\n",
              "      <td>Kurt Vonnegut</td>\n",
              "    </tr>\n",
              "    <tr>\n",
              "      <th>5</th>\n",
              "      <td>Bed &amp;amp; Breakfast</td>\n",
              "      <td>Lois Battle</td>\n",
              "    </tr>\n",
              "    <tr>\n",
              "      <th>6</th>\n",
              "      <td>Illusions: The Adventures of a Reluctant Messiah</td>\n",
              "      <td>Richard Bach</td>\n",
              "    </tr>\n",
              "    <tr>\n",
              "      <th>7</th>\n",
              "      <td>Fast Forward</td>\n",
              "      <td>Judy Mercer</td>\n",
              "    </tr>\n",
              "    <tr>\n",
              "      <th>8</th>\n",
              "      <td>Walking After Midnight</td>\n",
              "      <td>KAREN ROBARDS</td>\n",
              "    </tr>\n",
              "    <tr>\n",
              "      <th>9</th>\n",
              "      <td>The Tortilla Curtain</td>\n",
              "      <td>T. Coraghessan Boyle</td>\n",
              "    </tr>\n",
              "  </tbody>\n",
              "</table>\n",
              "</div>"
            ],
            "text/plain": [
              "                                               Book                Author\n",
              "0                                    Riding Shotgun        Rita Mae Brown\n",
              "1                                           Skyward     Mary Alice Monroe\n",
              "2                                       The Odyssey         Robert Fagles\n",
              "3                       Falling Leaves Brit Edition       Adeline Yen Mah\n",
              "4                       Welcome to the Monkey House         Kurt Vonnegut\n",
              "5                               Bed &amp; Breakfast           Lois Battle\n",
              "6  Illusions: The Adventures of a Reluctant Messiah          Richard Bach\n",
              "7                                      Fast Forward           Judy Mercer\n",
              "8                            Walking After Midnight         KAREN ROBARDS\n",
              "9                              The Tortilla Curtain  T. Coraghessan Boyle"
            ]
          },
          "metadata": {
            "tags": []
          },
          "execution_count": 47
        }
      ]
    },
    {
      "cell_type": "code",
      "metadata": {
        "id": "oMNBTlzkKvh3"
      },
      "source": [
        ""
      ],
      "execution_count": null,
      "outputs": []
    },
    {
      "cell_type": "code",
      "metadata": {
        "id": "sA3BFlscKwv7"
      },
      "source": [
        ""
      ],
      "execution_count": null,
      "outputs": []
    },
    {
      "cell_type": "markdown",
      "metadata": {
        "id": "4x-enRdUKxSg"
      },
      "source": [
        "## Applying Nearesr Neighbor for Recommendation with Surprise Library"
      ]
    },
    {
      "cell_type": "markdown",
      "metadata": {
        "id": "_HDkVEOi32l_"
      },
      "source": [
        "Surprise is an easy-to-use Python scikit for recommender systems."
      ]
    },
    {
      "cell_type": "code",
      "metadata": {
        "id": "7hUfNde5KwhE"
      },
      "source": [
        "from surprise import Dataset, Reader, accuracy\n",
        "from surprise.model_selection import cross_validate\n",
        "from surprise import KNNBasic"
      ],
      "execution_count": 48,
      "outputs": []
    },
    {
      "cell_type": "markdown",
      "metadata": {
        "id": "sUsXaM_dMLIs"
      },
      "source": [
        "Surprise library requires the dataframe must have three columns, corresponding to the user (raw) ids, the item (raw) ids, and the ratings in this order."
      ]
    },
    {
      "cell_type": "code",
      "metadata": {
        "colab": {
          "base_uri": "https://localhost:8080/",
          "height": 202
        },
        "id": "PIJf7oCl4CyW",
        "outputId": "95138f35-360c-463f-9b54-e0bb4ac0d117"
      },
      "source": [
        "data.head()"
      ],
      "execution_count": 49,
      "outputs": [
        {
          "output_type": "execute_result",
          "data": {
            "text/html": [
              "<div>\n",
              "<style scoped>\n",
              "    .dataframe tbody tr th:only-of-type {\n",
              "        vertical-align: middle;\n",
              "    }\n",
              "\n",
              "    .dataframe tbody tr th {\n",
              "        vertical-align: top;\n",
              "    }\n",
              "\n",
              "    .dataframe thead th {\n",
              "        text-align: right;\n",
              "    }\n",
              "</style>\n",
              "<table border=\"1\" class=\"dataframe\">\n",
              "  <thead>\n",
              "    <tr style=\"text-align: right;\">\n",
              "      <th></th>\n",
              "      <th>user</th>\n",
              "      <th>isbn</th>\n",
              "      <th>rating</th>\n",
              "    </tr>\n",
              "  </thead>\n",
              "  <tbody>\n",
              "    <tr>\n",
              "      <th>31</th>\n",
              "      <td>276762</td>\n",
              "      <td>034544003X</td>\n",
              "      <td>0</td>\n",
              "    </tr>\n",
              "    <tr>\n",
              "      <th>33</th>\n",
              "      <td>276762</td>\n",
              "      <td>0380711524</td>\n",
              "      <td>5</td>\n",
              "    </tr>\n",
              "    <tr>\n",
              "      <th>34</th>\n",
              "      <td>276762</td>\n",
              "      <td>0451167317</td>\n",
              "      <td>0</td>\n",
              "    </tr>\n",
              "    <tr>\n",
              "      <th>89</th>\n",
              "      <td>276798</td>\n",
              "      <td>3423084049</td>\n",
              "      <td>0</td>\n",
              "    </tr>\n",
              "    <tr>\n",
              "      <th>97</th>\n",
              "      <td>276798</td>\n",
              "      <td>3548603203</td>\n",
              "      <td>6</td>\n",
              "    </tr>\n",
              "  </tbody>\n",
              "</table>\n",
              "</div>"
            ],
            "text/plain": [
              "      user        isbn  rating\n",
              "31  276762  034544003X       0\n",
              "33  276762  0380711524       5\n",
              "34  276762  0451167317       0\n",
              "89  276798  3423084049       0\n",
              "97  276798  3548603203       6"
            ]
          },
          "metadata": {
            "tags": []
          },
          "execution_count": 49
        }
      ]
    },
    {
      "cell_type": "markdown",
      "metadata": {
        "id": "KHr7o6Tw4FQD"
      },
      "source": [
        "Here, in our data, 'user' corresponds to the user ids, 'isbn' is the item ids and 'rating' is simply the rating for a item by a user. So, we have the data in the order surprise library requires."
      ]
    },
    {
      "cell_type": "code",
      "metadata": {
        "colab": {
          "base_uri": "https://localhost:8080/"
        },
        "id": "xcBKwzOQTVy8",
        "outputId": "a29b40c5-9378-4896-ac31-116f957c9889"
      },
      "source": [
        "data.shape"
      ],
      "execution_count": 50,
      "outputs": [
        {
          "output_type": "execute_result",
          "data": {
            "text/plain": [
              "(405709, 3)"
            ]
          },
          "metadata": {
            "tags": []
          },
          "execution_count": 50
        }
      ]
    },
    {
      "cell_type": "code",
      "metadata": {
        "id": "uA_ByWjjMKEc"
      },
      "source": [
        "# create the data to use with surprise library\n",
        "# specify the rating scale\n",
        "reader = Reader(rating_scale=(1, 10))\n",
        "data_surp = Dataset.load_from_df(df = data, reader=reader)"
      ],
      "execution_count": 51,
      "outputs": []
    },
    {
      "cell_type": "code",
      "metadata": {
        "id": "jdujhvFjQJo4"
      },
      "source": [
        "#data_surp.raw_ratings"
      ],
      "execution_count": null,
      "outputs": []
    },
    {
      "cell_type": "markdown",
      "metadata": {
        "id": "VRHsy7-k7zz6"
      },
      "source": [
        "We can use the algorithm 'KNNBasic' from surprise library for recommendations with nearest neighbor."
      ]
    },
    {
      "cell_type": "code",
      "metadata": {
        "id": "eqsCeTxxNEhX"
      },
      "source": [
        "# selecte the algorithm\n",
        "algo = KNNBasic(k=60, min_k=1, sim_options={'name':'MSD', 'user_based':True})"
      ],
      "execution_count": 53,
      "outputs": []
    },
    {
      "cell_type": "code",
      "metadata": {
        "id": "bnOMApQEPUvQ"
      },
      "source": [
        "# splitting data into train and test data\n",
        "from surprise.model_selection import train_test_split\n",
        "trainset, testset = train_test_split(data_surp, test_size=.25)"
      ],
      "execution_count": 54,
      "outputs": []
    },
    {
      "cell_type": "code",
      "metadata": {
        "colab": {
          "base_uri": "https://localhost:8080/"
        },
        "id": "JiUOeCbHQlWq",
        "outputId": "68b271f2-453c-4807-d8e2-f17ee65f4c5e"
      },
      "source": [
        "trainset.n_users"
      ],
      "execution_count": 55,
      "outputs": [
        {
          "output_type": "execute_result",
          "data": {
            "text/plain": [
              "10646"
            ]
          },
          "metadata": {
            "tags": []
          },
          "execution_count": 55
        }
      ]
    },
    {
      "cell_type": "code",
      "metadata": {
        "colab": {
          "base_uri": "https://localhost:8080/"
        },
        "id": "DR5k5sX2QF3c",
        "outputId": "9e53366b-41df-4be9-a874-9b12697286af"
      },
      "source": [
        "# fit the model on train data\n",
        "algo.fit(trainset=trainset)"
      ],
      "execution_count": 66,
      "outputs": [
        {
          "output_type": "stream",
          "text": [
            "Computing the msd similarity matrix...\n",
            "Done computing similarity matrix.\n"
          ],
          "name": "stdout"
        },
        {
          "output_type": "execute_result",
          "data": {
            "text/plain": [
              "<surprise.prediction_algorithms.knns.KNNBasic at 0x7f1ed4600490>"
            ]
          },
          "metadata": {
            "tags": []
          },
          "execution_count": 66
        }
      ]
    },
    {
      "cell_type": "code",
      "metadata": {
        "id": "WBK8r0QwRf9M"
      },
      "source": [
        "# prediction for test data\n",
        "predictions = algo.test(testset)"
      ],
      "execution_count": 67,
      "outputs": []
    },
    {
      "cell_type": "code",
      "metadata": {
        "id": "-TKb8bS0U5An"
      },
      "source": [
        "# predictions"
      ],
      "execution_count": null,
      "outputs": []
    },
    {
      "cell_type": "code",
      "metadata": {
        "colab": {
          "base_uri": "https://localhost:8080/"
        },
        "id": "d8B-LP6oU6F9",
        "outputId": "533ae1d5-b000-44a7-b825-3f7959c9f21a"
      },
      "source": [
        "# evaluation with mean squared error\n",
        "accuracy.rmse(predictions=predictions)"
      ],
      "execution_count": 69,
      "outputs": [
        {
          "output_type": "stream",
          "text": [
            "RMSE: 3.8928\n"
          ],
          "name": "stdout"
        },
        {
          "output_type": "execute_result",
          "data": {
            "text/plain": [
              "3.892813412173743"
            ]
          },
          "metadata": {
            "tags": []
          },
          "execution_count": 69
        }
      ]
    },
    {
      "cell_type": "markdown",
      "metadata": {
        "id": "dNpuRUtl9xqs"
      },
      "source": [
        "we have and rmse score of 3.89, whcih shows that the predictions for the ratings are on average off by 3.89, which is not very good, but it is a decent score."
      ]
    },
    {
      "cell_type": "code",
      "metadata": {
        "colab": {
          "base_uri": "https://localhost:8080/"
        },
        "id": "mfxtNN3yVw_s",
        "outputId": "7a6eb387-2a34-4bc9-f4a7-b5481d15d7f5"
      },
      "source": [
        "# get a prediction for specific users and items.\n",
        "uid = 48046\n",
        "iid = '0060199652'\n",
        "r_ui = 10\n",
        "pred = algo.predict(uid, iid, r_ui=r_ui, verbose=True)"
      ],
      "execution_count": 70,
      "outputs": [
        {
          "output_type": "stream",
          "text": [
            "user: 48046      item: 0060199652 r_ui = 10.00   est = 7.90   {'actual_k': 60, 'was_impossible': False}\n"
          ],
          "name": "stdout"
        }
      ]
    },
    {
      "cell_type": "markdown",
      "metadata": {
        "id": "cMWmjZpS-M4v"
      },
      "source": [
        "So, here the actual rating given by the user for the book was 10, and the model predicted the rating to be 7.90."
      ]
    },
    {
      "cell_type": "markdown",
      "metadata": {
        "id": "u9HPpnXZ-ZsT"
      },
      "source": [
        "**Recommending books for a user**"
      ]
    },
    {
      "cell_type": "code",
      "metadata": {
        "id": "AXzDiCgNZLEc"
      },
      "source": [
        "# recommending books for a user\n",
        "user = 48046"
      ],
      "execution_count": 71,
      "outputs": []
    },
    {
      "cell_type": "code",
      "metadata": {
        "id": "_xu_rcD1Zjkl"
      },
      "source": [
        "# select books that have been rated by the user\n",
        "read_books = data[data.user==user]['isbn'].tolist()\n",
        "#print(read_books)"
      ],
      "execution_count": 72,
      "outputs": []
    },
    {
      "cell_type": "code",
      "metadata": {
        "id": "MNYVu3iaZkQh"
      },
      "source": [
        "# create a list of books that the user has not read\n",
        "not_read_books = [book for book in data.isbn.unique() if book not in read_books]"
      ],
      "execution_count": 73,
      "outputs": []
    },
    {
      "cell_type": "code",
      "metadata": {
        "colab": {
          "base_uri": "https://localhost:8080/"
        },
        "id": "cssqLmI1bKkP",
        "outputId": "62895574-4651-420f-a44f-d1a1a6476487"
      },
      "source": [
        "len(not_read_books)"
      ],
      "execution_count": 74,
      "outputs": [
        {
          "output_type": "execute_result",
          "data": {
            "text/plain": [
              "15330"
            ]
          },
          "metadata": {
            "tags": []
          },
          "execution_count": 74
        }
      ]
    },
    {
      "cell_type": "code",
      "metadata": {
        "id": "JdzZ8EYHbMw8"
      },
      "source": [
        "# predicting ratings for each of the not read books\n",
        "user = 48046\n",
        "pred_ratings = {}\n",
        "for book in not_read_books:\n",
        "  pred = algo.predict(uid=user, iid=book)\n",
        "  # extract only the predicted rating\n",
        "  est_rating = pred.est\n",
        "  # add the predictions\n",
        "  pred_ratings.update({book:est_rating})\n"
      ],
      "execution_count": 75,
      "outputs": []
    },
    {
      "cell_type": "code",
      "metadata": {
        "id": "L3eD6oNbbvrI"
      },
      "source": [
        "# sort the ratings\n",
        "#dict(sorted(x.items(), key=lambda item: item[1]))\n",
        "sorted_ratings = sorted(pred_ratings.items(), key=lambda item: item[1], reverse=True)"
      ],
      "execution_count": 79,
      "outputs": []
    },
    {
      "cell_type": "code",
      "metadata": {
        "colab": {
          "base_uri": "https://localhost:8080/"
        },
        "id": "N8tUhFd9izi3",
        "outputId": "fa91b032-25e9-4360-a79c-eac874f6dcb0"
      },
      "source": [
        "# select top 10 \n",
        "sorted_ratings = sorted_ratings[:10]\n",
        "sorted_ratings"
      ],
      "execution_count": 80,
      "outputs": [
        {
          "output_type": "execute_result",
          "data": {
            "text/plain": [
              "[('0385497288', 10),\n",
              " ('351836605X', 10),\n",
              " ('2277241202', 10),\n",
              " ('3404149114', 10),\n",
              " ('3404130014', 10),\n",
              " ('033035034X', 10),\n",
              " ('0618219064', 10),\n",
              " ('3596154049', 10),\n",
              " ('3596200261', 10),\n",
              " ('0785268839', 10)]"
            ]
          },
          "metadata": {
            "tags": []
          },
          "execution_count": 80
        }
      ]
    },
    {
      "cell_type": "code",
      "metadata": {
        "id": "LsHyGhP3jIU-",
        "colab": {
          "base_uri": "https://localhost:8080/",
          "height": 355
        },
        "outputId": "45443734-cb81-42ef-8a1d-34ac19352565"
      },
      "source": [
        "# get the book name and author\n",
        "book  = [bookMeta(info[0])[0] for info in sorted_ratings]\n",
        "author = [bookMeta(info[0])[1] for info in sorted_ratings]\n",
        "pd.DataFrame({'Book':book, 'Author':author})"
      ],
      "execution_count": 86,
      "outputs": [
        {
          "output_type": "execute_result",
          "data": {
            "text/html": [
              "<div>\n",
              "<style scoped>\n",
              "    .dataframe tbody tr th:only-of-type {\n",
              "        vertical-align: middle;\n",
              "    }\n",
              "\n",
              "    .dataframe tbody tr th {\n",
              "        vertical-align: top;\n",
              "    }\n",
              "\n",
              "    .dataframe thead th {\n",
              "        text-align: right;\n",
              "    }\n",
              "</style>\n",
              "<table border=\"1\" class=\"dataframe\">\n",
              "  <thead>\n",
              "    <tr style=\"text-align: right;\">\n",
              "      <th></th>\n",
              "      <th>Book</th>\n",
              "      <th>Author</th>\n",
              "    </tr>\n",
              "  </thead>\n",
              "  <tbody>\n",
              "    <tr>\n",
              "      <th>0</th>\n",
              "      <td>The Unknown Errors of Our Lives: Stories</td>\n",
              "      <td>Chitra Banerjee Divakaruni</td>\n",
              "    </tr>\n",
              "    <tr>\n",
              "      <th>1</th>\n",
              "      <td>Stiller</td>\n",
              "      <td>Max Frisch</td>\n",
              "    </tr>\n",
              "    <tr>\n",
              "      <th>2</th>\n",
              "      <td>L' Alchimiste</td>\n",
              "      <td>Paul Coelho</td>\n",
              "    </tr>\n",
              "    <tr>\n",
              "      <th>3</th>\n",
              "      <td>Das Zweite GedÃ?Â¤chtnis.</td>\n",
              "      <td>Ken Follett</td>\n",
              "    </tr>\n",
              "    <tr>\n",
              "      <th>4</th>\n",
              "      <td>Feuerkind. Thriller.</td>\n",
              "      <td>Stephen King</td>\n",
              "    </tr>\n",
              "    <tr>\n",
              "      <th>5</th>\n",
              "      <td>Death Is Now My Neighbour</td>\n",
              "      <td>Colin Dexter</td>\n",
              "    </tr>\n",
              "    <tr>\n",
              "      <th>6</th>\n",
              "      <td>The Wind Done Gone: A Novel</td>\n",
              "      <td>Alice Randall</td>\n",
              "    </tr>\n",
              "    <tr>\n",
              "      <th>7</th>\n",
              "      <td>Der Besuch des Leibarztes.</td>\n",
              "      <td>Per Olov Enquist</td>\n",
              "    </tr>\n",
              "    <tr>\n",
              "      <th>8</th>\n",
              "      <td>Fischer TaschenbÃ?Â¼cher, Bd.26, SchÃ?Â¶ne neue Welt</td>\n",
              "      <td>Aldous Huxley</td>\n",
              "    </tr>\n",
              "    <tr>\n",
              "      <th>9</th>\n",
              "      <td>Wild at Heart: Discovering the Secret of a Man's Soul</td>\n",
              "      <td>John Eldredge</td>\n",
              "    </tr>\n",
              "  </tbody>\n",
              "</table>\n",
              "</div>"
            ],
            "text/plain": [
              "                                                    Book                      Author\n",
              "0               The Unknown Errors of Our Lives: Stories  Chitra Banerjee Divakaruni\n",
              "1                                                Stiller                  Max Frisch\n",
              "2                                          L' Alchimiste                 Paul Coelho\n",
              "3                              Das Zweite GedÃ?Â¤chtnis.                 Ken Follett\n",
              "4                                   Feuerkind. Thriller.                Stephen King\n",
              "5                              Death Is Now My Neighbour                Colin Dexter\n",
              "6                            The Wind Done Gone: A Novel               Alice Randall\n",
              "7                             Der Besuch des Leibarztes.            Per Olov Enquist\n",
              "8   Fischer TaschenbÃ?Â¼cher, Bd.26, SchÃ?Â¶ne neue Welt               Aldous Huxley\n",
              "9  Wild at Heart: Discovering the Secret of a Man's Soul               John Eldredge"
            ]
          },
          "metadata": {
            "tags": []
          },
          "execution_count": 86
        }
      ]
    },
    {
      "cell_type": "code",
      "metadata": {
        "id": "om6q3Y4oj1Wt"
      },
      "source": [
        "# creating a function for recommendating\n",
        "def recommend_books(user_id):\n",
        "  # select books that have been rated by the user\n",
        "  read_books = data[data.user==user_id]['isbn'].tolist()\n",
        "  # create a list of books that the user has not read\n",
        "  not_read_books = [book for book in data.isbn.unique() if book not in read_books]\n",
        "  pred_ratings = {}\n",
        "  for book in not_read_books:\n",
        "    pred = algo.predict(uid=user_id, iid=book)\n",
        "    # extract only the predicted rating\n",
        "    est_rating = pred.est\n",
        "    # add the predictions\n",
        "    pred_ratings.update({book:est_rating})\n",
        "\n",
        "  # take top 10 books with highest ratings\n",
        "  sorted_ratings = sorted(pred_ratings.items(), key=lambda item: item[1], reverse=True)[:10]\n",
        "  book  = [bookMeta(info[0])[0] for info in sorted_ratings]\n",
        "  author = [bookMeta(info[0])[1] for info in sorted_ratings]\n",
        "  return pd.DataFrame({'Book':book, 'Author':author})"
      ],
      "execution_count": 88,
      "outputs": []
    },
    {
      "cell_type": "code",
      "metadata": {
        "colab": {
          "base_uri": "https://localhost:8080/",
          "height": 355
        },
        "id": "Pjw3aTEeCCyD",
        "outputId": "cdfbb49d-c9cd-46b6-f298-10a3d1279995"
      },
      "source": [
        "user = 48046\n",
        "recommend_books(user_id=user)"
      ],
      "execution_count": 89,
      "outputs": [
        {
          "output_type": "execute_result",
          "data": {
            "text/html": [
              "<div>\n",
              "<style scoped>\n",
              "    .dataframe tbody tr th:only-of-type {\n",
              "        vertical-align: middle;\n",
              "    }\n",
              "\n",
              "    .dataframe tbody tr th {\n",
              "        vertical-align: top;\n",
              "    }\n",
              "\n",
              "    .dataframe thead th {\n",
              "        text-align: right;\n",
              "    }\n",
              "</style>\n",
              "<table border=\"1\" class=\"dataframe\">\n",
              "  <thead>\n",
              "    <tr style=\"text-align: right;\">\n",
              "      <th></th>\n",
              "      <th>Book</th>\n",
              "      <th>Author</th>\n",
              "    </tr>\n",
              "  </thead>\n",
              "  <tbody>\n",
              "    <tr>\n",
              "      <th>0</th>\n",
              "      <td>The Unknown Errors of Our Lives: Stories</td>\n",
              "      <td>Chitra Banerjee Divakaruni</td>\n",
              "    </tr>\n",
              "    <tr>\n",
              "      <th>1</th>\n",
              "      <td>Stiller</td>\n",
              "      <td>Max Frisch</td>\n",
              "    </tr>\n",
              "    <tr>\n",
              "      <th>2</th>\n",
              "      <td>L' Alchimiste</td>\n",
              "      <td>Paul Coelho</td>\n",
              "    </tr>\n",
              "    <tr>\n",
              "      <th>3</th>\n",
              "      <td>Das Zweite GedÃ?Â¤chtnis.</td>\n",
              "      <td>Ken Follett</td>\n",
              "    </tr>\n",
              "    <tr>\n",
              "      <th>4</th>\n",
              "      <td>Feuerkind. Thriller.</td>\n",
              "      <td>Stephen King</td>\n",
              "    </tr>\n",
              "    <tr>\n",
              "      <th>5</th>\n",
              "      <td>Death Is Now My Neighbour</td>\n",
              "      <td>Colin Dexter</td>\n",
              "    </tr>\n",
              "    <tr>\n",
              "      <th>6</th>\n",
              "      <td>The Wind Done Gone: A Novel</td>\n",
              "      <td>Alice Randall</td>\n",
              "    </tr>\n",
              "    <tr>\n",
              "      <th>7</th>\n",
              "      <td>Der Besuch des Leibarztes.</td>\n",
              "      <td>Per Olov Enquist</td>\n",
              "    </tr>\n",
              "    <tr>\n",
              "      <th>8</th>\n",
              "      <td>Fischer TaschenbÃ?Â¼cher, Bd.26, SchÃ?Â¶ne neue Welt</td>\n",
              "      <td>Aldous Huxley</td>\n",
              "    </tr>\n",
              "    <tr>\n",
              "      <th>9</th>\n",
              "      <td>Wild at Heart: Discovering the Secret of a Man's Soul</td>\n",
              "      <td>John Eldredge</td>\n",
              "    </tr>\n",
              "  </tbody>\n",
              "</table>\n",
              "</div>"
            ],
            "text/plain": [
              "                                                    Book                      Author\n",
              "0               The Unknown Errors of Our Lives: Stories  Chitra Banerjee Divakaruni\n",
              "1                                                Stiller                  Max Frisch\n",
              "2                                          L' Alchimiste                 Paul Coelho\n",
              "3                              Das Zweite GedÃ?Â¤chtnis.                 Ken Follett\n",
              "4                                   Feuerkind. Thriller.                Stephen King\n",
              "5                              Death Is Now My Neighbour                Colin Dexter\n",
              "6                            The Wind Done Gone: A Novel               Alice Randall\n",
              "7                             Der Besuch des Leibarztes.            Per Olov Enquist\n",
              "8   Fischer TaschenbÃ?Â¼cher, Bd.26, SchÃ?Â¶ne neue Welt               Aldous Huxley\n",
              "9  Wild at Heart: Discovering the Secret of a Man's Soul               John Eldredge"
            ]
          },
          "metadata": {
            "tags": []
          },
          "execution_count": 89
        }
      ]
    }
  ]
}