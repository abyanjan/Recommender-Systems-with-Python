{
  "nbformat": 4,
  "nbformat_minor": 0,
  "metadata": {
    "colab": {
      "name": "Recommendation with matrix factorization.ipynb",
      "provenance": [],
      "authorship_tag": "ABX9TyNf+hoZ09AUSUcqVPBVtZo6",
      "include_colab_link": true
    },
    "kernelspec": {
      "name": "python3",
      "display_name": "Python 3"
    },
    "language_info": {
      "name": "python"
    }
  },
  "cells": [
    {
      "cell_type": "markdown",
      "metadata": {
        "id": "view-in-github",
        "colab_type": "text"
      },
      "source": [
        "<a href=\"https://colab.research.google.com/github/abyanjan/Recommender-Systems-with-Python/blob/master/Recommendation_with_matrix_factorization.ipynb\" target=\"_parent\"><img src=\"https://colab.research.google.com/assets/colab-badge.svg\" alt=\"Open In Colab\"/></a>"
      ]
    },
    {
      "cell_type": "markdown",
      "metadata": {
        "id": "cvT8zbOPxzz6"
      },
      "source": [
        "## Recommendation Systems with Matrix Factorization"
      ]
    },
    {
      "cell_type": "markdown",
      "metadata": {
        "id": "bclk2wY2yClT"
      },
      "source": [
        "**Book Recommendation**"
      ]
    },
    {
      "cell_type": "code",
      "metadata": {
        "colab": {
          "base_uri": "https://localhost:8080/"
        },
        "id": "LZeqUBZqxmUr",
        "outputId": "3f423e55-fcf8-4256-a18c-e732778bb1d0"
      },
      "source": [
        "!pip install -q surprise"
      ],
      "execution_count": null,
      "outputs": [
        {
          "output_type": "stream",
          "text": [
            "\u001b[K     |████████████████████████████████| 11.8MB 234kB/s \n",
            "\u001b[?25h  Building wheel for scikit-surprise (setup.py) ... \u001b[?25l\u001b[?25hdone\n"
          ],
          "name": "stdout"
        }
      ]
    },
    {
      "cell_type": "code",
      "metadata": {
        "id": "YBSs8E6NyH2_"
      },
      "source": [
        ""
      ],
      "execution_count": null,
      "outputs": []
    },
    {
      "cell_type": "markdown",
      "metadata": {
        "id": "ZK6L09nJWa6F"
      },
      "source": [
        "### Data"
      ]
    },
    {
      "cell_type": "markdown",
      "metadata": {
        "id": "gX0cnU58pChj"
      },
      "source": [
        "The data used here is the book-crossing dataset available at http://www2.informatik.uni-freiburg.de/~cziegler/BX/"
      ]
    },
    {
      "cell_type": "code",
      "metadata": {
        "colab": {
          "base_uri": "https://localhost:8080/"
        },
        "id": "8MgE4U2LUgfr",
        "outputId": "e10ff8ef-64b9-4f24-e257-ca6194a20680"
      },
      "source": [
        "# downloading the data\n",
        "!wget http://www2.informatik.uni-freiburg.de/~cziegler/BX/BX-CSV-Dump.zip"
      ],
      "execution_count": null,
      "outputs": [
        {
          "output_type": "stream",
          "text": [
            "--2021-03-27 13:02:56--  http://www2.informatik.uni-freiburg.de/~cziegler/BX/BX-CSV-Dump.zip\n",
            "Resolving www2.informatik.uni-freiburg.de (www2.informatik.uni-freiburg.de)... 132.230.105.133\n",
            "Connecting to www2.informatik.uni-freiburg.de (www2.informatik.uni-freiburg.de)|132.230.105.133|:80... connected.\n",
            "HTTP request sent, awaiting response... 200 OK\n",
            "Length: 26085508 (25M) [application/zip]\n",
            "Saving to: ‘BX-CSV-Dump.zip’\n",
            "\n",
            "BX-CSV-Dump.zip     100%[===================>]  24.88M  6.29MB/s    in 4.0s    \n",
            "\n",
            "2021-03-27 13:03:01 (6.29 MB/s) - ‘BX-CSV-Dump.zip’ saved [26085508/26085508]\n",
            "\n"
          ],
          "name": "stdout"
        }
      ]
    },
    {
      "cell_type": "code",
      "metadata": {
        "id": "4V8AKAjSV7ig"
      },
      "source": [
        "# unzipping the data\n",
        "import zipfile\n",
        "with zipfile.ZipFile('BX-CSV-Dump.zip', 'r') as zip_ref:\n",
        "    zip_ref.extractall('data')"
      ],
      "execution_count": null,
      "outputs": []
    },
    {
      "cell_type": "code",
      "metadata": {
        "colab": {
          "base_uri": "https://localhost:8080/"
        },
        "id": "fwQQhWPNWtHi",
        "outputId": "d6f9dbc7-78ea-488e-cd18-6b29135d366a"
      },
      "source": [
        "# check the list of data files\n",
        "%ls 'data'"
      ],
      "execution_count": null,
      "outputs": [
        {
          "output_type": "stream",
          "text": [
            "BX-Book-Ratings.csv  BX-Books.csv  BX-Users.csv\n"
          ],
          "name": "stdout"
        }
      ]
    },
    {
      "cell_type": "markdown",
      "metadata": {
        "id": "T77QLNWGpzyJ"
      },
      "source": [
        "The dataset contains three files\n",
        "- BX-Users: contains information on users including demographic data if available\n",
        "- BX-Books : contains information on books identified their 'isbn' number and data on 'Book-Title', 'Book-Author', 'Year-Of-Publication', 'Publisher'\n",
        "- BX-Book-Ratings : contains the book rating information, ratings for the books are in a scale from 1-10 (higher values denoting higher appreciation)"
      ]
    },
    {
      "cell_type": "code",
      "metadata": {
        "id": "pyeCUz3AyWPm"
      },
      "source": [
        ""
      ],
      "execution_count": null,
      "outputs": []
    },
    {
      "cell_type": "code",
      "metadata": {
        "id": "Q4UP4b8EWZke"
      },
      "source": [
        "import pandas as pd\n",
        "import numpy as np\n",
        "import scipy"
      ],
      "execution_count": null,
      "outputs": []
    },
    {
      "cell_type": "code",
      "metadata": {
        "colab": {
          "base_uri": "https://localhost:8080/",
          "height": 202
        },
        "id": "YAMpcE_QWo7O",
        "outputId": "fe523b13-a5f9-4bca-ea1f-83fe43f335a7"
      },
      "source": [
        "# reading ratings data\n",
        "data = pd.read_csv(\"data/BX-Book-Ratings.csv\", sep=';', header=0, names=['user','isbn','rating'],encoding='latin-1')\n",
        "data.head()"
      ],
      "execution_count": null,
      "outputs": [
        {
          "output_type": "execute_result",
          "data": {
            "text/html": [
              "<div>\n",
              "<style scoped>\n",
              "    .dataframe tbody tr th:only-of-type {\n",
              "        vertical-align: middle;\n",
              "    }\n",
              "\n",
              "    .dataframe tbody tr th {\n",
              "        vertical-align: top;\n",
              "    }\n",
              "\n",
              "    .dataframe thead th {\n",
              "        text-align: right;\n",
              "    }\n",
              "</style>\n",
              "<table border=\"1\" class=\"dataframe\">\n",
              "  <thead>\n",
              "    <tr style=\"text-align: right;\">\n",
              "      <th></th>\n",
              "      <th>user</th>\n",
              "      <th>isbn</th>\n",
              "      <th>rating</th>\n",
              "    </tr>\n",
              "  </thead>\n",
              "  <tbody>\n",
              "    <tr>\n",
              "      <th>0</th>\n",
              "      <td>276725</td>\n",
              "      <td>034545104X</td>\n",
              "      <td>0</td>\n",
              "    </tr>\n",
              "    <tr>\n",
              "      <th>1</th>\n",
              "      <td>276726</td>\n",
              "      <td>0155061224</td>\n",
              "      <td>5</td>\n",
              "    </tr>\n",
              "    <tr>\n",
              "      <th>2</th>\n",
              "      <td>276727</td>\n",
              "      <td>0446520802</td>\n",
              "      <td>0</td>\n",
              "    </tr>\n",
              "    <tr>\n",
              "      <th>3</th>\n",
              "      <td>276729</td>\n",
              "      <td>052165615X</td>\n",
              "      <td>3</td>\n",
              "    </tr>\n",
              "    <tr>\n",
              "      <th>4</th>\n",
              "      <td>276729</td>\n",
              "      <td>0521795028</td>\n",
              "      <td>6</td>\n",
              "    </tr>\n",
              "  </tbody>\n",
              "</table>\n",
              "</div>"
            ],
            "text/plain": [
              "     user        isbn  rating\n",
              "0  276725  034545104X       0\n",
              "1  276726  0155061224       5\n",
              "2  276727  0446520802       0\n",
              "3  276729  052165615X       3\n",
              "4  276729  0521795028       6"
            ]
          },
          "metadata": {
            "tags": []
          },
          "execution_count": 6
        }
      ]
    },
    {
      "cell_type": "code",
      "metadata": {
        "colab": {
          "base_uri": "https://localhost:8080/",
          "height": 233
        },
        "id": "WP1rFydsXTQf",
        "outputId": "8c4ac040-61d9-42eb-8e50-5e6a637b6826"
      },
      "source": [
        "# reading books data\n",
        "books = pd.read_csv(\"data/BX-Books.csv\", sep=';', header=0,error_bad_lines=False, usecols=[0,1,2],index_col=0,\n",
        "                   names=['isbn','title','author'],encoding='latin-1')\n",
        "books.head()"
      ],
      "execution_count": null,
      "outputs": [
        {
          "output_type": "execute_result",
          "data": {
            "text/html": [
              "<div>\n",
              "<style scoped>\n",
              "    .dataframe tbody tr th:only-of-type {\n",
              "        vertical-align: middle;\n",
              "    }\n",
              "\n",
              "    .dataframe tbody tr th {\n",
              "        vertical-align: top;\n",
              "    }\n",
              "\n",
              "    .dataframe thead th {\n",
              "        text-align: right;\n",
              "    }\n",
              "</style>\n",
              "<table border=\"1\" class=\"dataframe\">\n",
              "  <thead>\n",
              "    <tr style=\"text-align: right;\">\n",
              "      <th></th>\n",
              "      <th>title</th>\n",
              "      <th>author</th>\n",
              "    </tr>\n",
              "    <tr>\n",
              "      <th>isbn</th>\n",
              "      <th></th>\n",
              "      <th></th>\n",
              "    </tr>\n",
              "  </thead>\n",
              "  <tbody>\n",
              "    <tr>\n",
              "      <th>0195153448</th>\n",
              "      <td>Classical Mythology</td>\n",
              "      <td>Mark P. O. Morford</td>\n",
              "    </tr>\n",
              "    <tr>\n",
              "      <th>0002005018</th>\n",
              "      <td>Clara Callan</td>\n",
              "      <td>Richard Bruce Wright</td>\n",
              "    </tr>\n",
              "    <tr>\n",
              "      <th>0060973129</th>\n",
              "      <td>Decision in Normandy</td>\n",
              "      <td>Carlo D'Este</td>\n",
              "    </tr>\n",
              "    <tr>\n",
              "      <th>0374157065</th>\n",
              "      <td>Flu: The Story of the Great Influenza Pandemic...</td>\n",
              "      <td>Gina Bari Kolata</td>\n",
              "    </tr>\n",
              "    <tr>\n",
              "      <th>0393045218</th>\n",
              "      <td>The Mummies of Urumchi</td>\n",
              "      <td>E. J. W. Barber</td>\n",
              "    </tr>\n",
              "  </tbody>\n",
              "</table>\n",
              "</div>"
            ],
            "text/plain": [
              "                                                        title                author\n",
              "isbn                                                                               \n",
              "0195153448                                Classical Mythology    Mark P. O. Morford\n",
              "0002005018                                       Clara Callan  Richard Bruce Wright\n",
              "0060973129                               Decision in Normandy          Carlo D'Este\n",
              "0374157065  Flu: The Story of the Great Influenza Pandemic...      Gina Bari Kolata\n",
              "0393045218                             The Mummies of Urumchi       E. J. W. Barber"
            ]
          },
          "metadata": {
            "tags": []
          },
          "execution_count": 7
        }
      ]
    },
    {
      "cell_type": "code",
      "metadata": {
        "id": "IeMEAgp4Y5Th"
      },
      "source": [
        "# setting up a function to get metadata on any book by its isbn number\n",
        "def bookMeta(isbn):\n",
        "  title = books.loc[isbn,'title']\n",
        "  author = books.loc[isbn,'author']\n",
        "  return title, author"
      ],
      "execution_count": null,
      "outputs": []
    },
    {
      "cell_type": "code",
      "metadata": {
        "colab": {
          "base_uri": "https://localhost:8080/"
        },
        "id": "RHhdpzTeZiwo",
        "outputId": "0a29af76-27e2-4cbc-87cc-2eac72b9c8d8"
      },
      "source": [
        "# testing the bookMeta function\n",
        "bookMeta('0195153448')"
      ],
      "execution_count": null,
      "outputs": [
        {
          "output_type": "execute_result",
          "data": {
            "text/plain": [
              "('Classical Mythology', 'Mark P. O. Morford')"
            ]
          },
          "metadata": {
            "tags": []
          },
          "execution_count": 9
        }
      ]
    },
    {
      "cell_type": "code",
      "metadata": {
        "id": "LdPDk0pQZ0BL"
      },
      "source": [
        "# setting a function to get top N favourite books for a user\n",
        "def favBooks(user, N):\n",
        "  # filtering out ratings for the specified user only\n",
        "  userdata = data[data['user'] == user]\n",
        "  # sorting the data by descending order of the ratings and only selecting top N rated books\n",
        "  sorted_ratings = userdata.sort_values('rating', ascending =False)[:N]\n",
        "  # adding book meta data\n",
        "  sorted_ratings['title'] = sorted_ratings['isbn'].apply(bookMeta)\n",
        "  return sorted_ratings"
      ],
      "execution_count": null,
      "outputs": []
    },
    {
      "cell_type": "markdown",
      "metadata": {
        "id": "m19Dr8s6rKmS"
      },
      "source": [
        "There may be ratings given to books that we may not have information about in the books data. So, we will make sure that the ratings data only contains the books that we have information about."
      ]
    },
    {
      "cell_type": "code",
      "metadata": {
        "id": "Z2yaI6odZz-f"
      },
      "source": [
        "# making sure that we only have the ratings for the books that we have information about, that is stored in books dataframe\n",
        "data = data[data['isbn'].isin(books.index)]"
      ],
      "execution_count": null,
      "outputs": []
    },
    {
      "cell_type": "code",
      "metadata": {
        "colab": {
          "base_uri": "https://localhost:8080/",
          "height": 202
        },
        "id": "HI_1mQfxbxMh",
        "outputId": "cfbef158-9cbb-43d9-9c52-37fc1ed0c9e3"
      },
      "source": [
        "# checking favBooks function\n",
        "favBooks(204622,5)"
      ],
      "execution_count": null,
      "outputs": [
        {
          "output_type": "execute_result",
          "data": {
            "text/html": [
              "<div>\n",
              "<style scoped>\n",
              "    .dataframe tbody tr th:only-of-type {\n",
              "        vertical-align: middle;\n",
              "    }\n",
              "\n",
              "    .dataframe tbody tr th {\n",
              "        vertical-align: top;\n",
              "    }\n",
              "\n",
              "    .dataframe thead th {\n",
              "        text-align: right;\n",
              "    }\n",
              "</style>\n",
              "<table border=\"1\" class=\"dataframe\">\n",
              "  <thead>\n",
              "    <tr style=\"text-align: right;\">\n",
              "      <th></th>\n",
              "      <th>user</th>\n",
              "      <th>isbn</th>\n",
              "      <th>rating</th>\n",
              "      <th>title</th>\n",
              "    </tr>\n",
              "  </thead>\n",
              "  <tbody>\n",
              "    <tr>\n",
              "      <th>844955</th>\n",
              "      <td>204622</td>\n",
              "      <td>0967560500</td>\n",
              "      <td>10</td>\n",
              "      <td>(Natural Hormonal Enhancement, Rob Faigin)</td>\n",
              "    </tr>\n",
              "    <tr>\n",
              "      <th>844935</th>\n",
              "      <td>204622</td>\n",
              "      <td>0671027360</td>\n",
              "      <td>10</td>\n",
              "      <td>(Angels &amp;amp; Demons, Dan Brown)</td>\n",
              "    </tr>\n",
              "    <tr>\n",
              "      <th>844926</th>\n",
              "      <td>204622</td>\n",
              "      <td>0385504209</td>\n",
              "      <td>10</td>\n",
              "      <td>(The Da Vinci Code, Dan Brown)</td>\n",
              "    </tr>\n",
              "    <tr>\n",
              "      <th>844958</th>\n",
              "      <td>204622</td>\n",
              "      <td>097173660X</td>\n",
              "      <td>9</td>\n",
              "      <td>(Life After School Explained, Cap &amp;amp; Compass)</td>\n",
              "    </tr>\n",
              "    <tr>\n",
              "      <th>844920</th>\n",
              "      <td>204622</td>\n",
              "      <td>0060935464</td>\n",
              "      <td>9</td>\n",
              "      <td>(To Kill a Mockingbird, Harper Lee)</td>\n",
              "    </tr>\n",
              "  </tbody>\n",
              "</table>\n",
              "</div>"
            ],
            "text/plain": [
              "          user  ...                                             title\n",
              "844955  204622  ...        (Natural Hormonal Enhancement, Rob Faigin)\n",
              "844935  204622  ...                  (Angels &amp; Demons, Dan Brown)\n",
              "844926  204622  ...                    (The Da Vinci Code, Dan Brown)\n",
              "844958  204622  ...  (Life After School Explained, Cap &amp; Compass)\n",
              "844920  204622  ...               (To Kill a Mockingbird, Harper Lee)\n",
              "\n",
              "[5 rows x 4 columns]"
            ]
          },
          "metadata": {
            "tags": []
          },
          "execution_count": 12
        }
      ]
    },
    {
      "cell_type": "code",
      "metadata": {
        "id": "pYy-5RxoymJN"
      },
      "source": [
        ""
      ],
      "execution_count": null,
      "outputs": []
    },
    {
      "cell_type": "markdown",
      "metadata": {
        "id": "uwHkLLubyzca"
      },
      "source": [
        "We will be using surprise library to perform matrix factorization for the recommender system. Surprise is an easy-to-use Python scikit for recommender systems."
      ]
    },
    {
      "cell_type": "code",
      "metadata": {
        "id": "1xmwKj8PynF9"
      },
      "source": [
        "from surprise import Dataset, Reader, accuracy\n",
        "from surprise.model_selection import cross_validate, KFold\n",
        "from surprise import SVD, SVDpp"
      ],
      "execution_count": null,
      "outputs": []
    },
    {
      "cell_type": "markdown",
      "metadata": {
        "id": "EdV5ya_jzGa8"
      },
      "source": [
        "Surprise library requires the dataframe must have three columns, corresponding to the user (raw) ids, the item (raw) ids, and the ratings in this order."
      ]
    },
    {
      "cell_type": "code",
      "metadata": {
        "colab": {
          "base_uri": "https://localhost:8080/",
          "height": 202
        },
        "id": "FlvGpLWBzCCH",
        "outputId": "0395f016-4622-47a1-ea89-ea6e2ac784f4"
      },
      "source": [
        "data.head()"
      ],
      "execution_count": null,
      "outputs": [
        {
          "output_type": "execute_result",
          "data": {
            "text/html": [
              "<div>\n",
              "<style scoped>\n",
              "    .dataframe tbody tr th:only-of-type {\n",
              "        vertical-align: middle;\n",
              "    }\n",
              "\n",
              "    .dataframe tbody tr th {\n",
              "        vertical-align: top;\n",
              "    }\n",
              "\n",
              "    .dataframe thead th {\n",
              "        text-align: right;\n",
              "    }\n",
              "</style>\n",
              "<table border=\"1\" class=\"dataframe\">\n",
              "  <thead>\n",
              "    <tr style=\"text-align: right;\">\n",
              "      <th></th>\n",
              "      <th>user</th>\n",
              "      <th>isbn</th>\n",
              "      <th>rating</th>\n",
              "    </tr>\n",
              "  </thead>\n",
              "  <tbody>\n",
              "    <tr>\n",
              "      <th>0</th>\n",
              "      <td>276725</td>\n",
              "      <td>034545104X</td>\n",
              "      <td>0</td>\n",
              "    </tr>\n",
              "    <tr>\n",
              "      <th>1</th>\n",
              "      <td>276726</td>\n",
              "      <td>0155061224</td>\n",
              "      <td>5</td>\n",
              "    </tr>\n",
              "    <tr>\n",
              "      <th>2</th>\n",
              "      <td>276727</td>\n",
              "      <td>0446520802</td>\n",
              "      <td>0</td>\n",
              "    </tr>\n",
              "    <tr>\n",
              "      <th>3</th>\n",
              "      <td>276729</td>\n",
              "      <td>052165615X</td>\n",
              "      <td>3</td>\n",
              "    </tr>\n",
              "    <tr>\n",
              "      <th>4</th>\n",
              "      <td>276729</td>\n",
              "      <td>0521795028</td>\n",
              "      <td>6</td>\n",
              "    </tr>\n",
              "  </tbody>\n",
              "</table>\n",
              "</div>"
            ],
            "text/plain": [
              "     user        isbn  rating\n",
              "0  276725  034545104X       0\n",
              "1  276726  0155061224       5\n",
              "2  276727  0446520802       0\n",
              "3  276729  052165615X       3\n",
              "4  276729  0521795028       6"
            ]
          },
          "metadata": {
            "tags": []
          },
          "execution_count": 15
        }
      ]
    },
    {
      "cell_type": "markdown",
      "metadata": {
        "id": "0YELZ3qazQsG"
      },
      "source": [
        "Here, in our data, 'user' corresponds to the user ids, 'isbn' is the item ids and 'rating' is simply the rating for a item by a user. So, we have the data in the order surprise library requires."
      ]
    },
    {
      "cell_type": "code",
      "metadata": {
        "id": "INTwM5TnzL9D"
      },
      "source": [
        "# create the data to use with surprise library\n",
        "# specify the rating scale\n",
        "reader = Reader(rating_scale=(1, 10))\n",
        "data_surp = Dataset.load_from_df(df = data, reader=reader)"
      ],
      "execution_count": null,
      "outputs": []
    },
    {
      "cell_type": "markdown",
      "metadata": {
        "id": "6y9vp8Gmz99d"
      },
      "source": [
        "###**Using SVD**"
      ]
    },
    {
      "cell_type": "code",
      "metadata": {
        "id": "oxhD1yHlz2bp"
      },
      "source": [
        "# setting the algorithm\n",
        "algo = SVD()"
      ],
      "execution_count": null,
      "outputs": []
    },
    {
      "cell_type": "code",
      "metadata": {
        "colab": {
          "base_uri": "https://localhost:8080/"
        },
        "id": "vUgTXliY0Nvx",
        "outputId": "786cb483-8c17-42cb-dfc5-8dc1590985d6"
      },
      "source": [
        "# perform cross validation \n",
        "kf = KFold(n_splits=3, random_state=1)\n",
        "\n",
        "RMSE = []\n",
        "for train, test in kf.split(data_surp):\n",
        "  # train and test algorithm.\n",
        "    algo.fit(train)\n",
        "    predictions = algo.test(test)\n",
        "\n",
        "    # Compute and print Root Mean Squared Error\n",
        "    RMSE.append(accuracy.rmse(predictions, verbose=True))\n",
        "\n",
        "print(f\"Mean RMSE score: {np.mean(RMSE)}\")"
      ],
      "execution_count": null,
      "outputs": [
        {
          "output_type": "stream",
          "text": [
            "RMSE: 3.4961\n",
            "RMSE: 3.4976\n",
            "RMSE: 3.4978\n",
            "Mean RMSE score: 3.497152051197096\n"
          ],
          "name": "stdout"
        }
      ]
    },
    {
      "cell_type": "markdown",
      "metadata": {
        "id": "Ooo7-NaG4FiU"
      },
      "source": [
        "Here, we get a cross validated score RMSE of 3.49, which is not very good considering the range of our score is between 1 and 10. So, on average our prediction of ratings is off by 3.49.  \n",
        "We can try to improve the performance of the SVD model with fine tuning."
      ]
    },
    {
      "cell_type": "markdown",
      "metadata": {
        "id": "izsXoBdk4jGA"
      },
      "source": [
        "**Fine Tuning SVD**"
      ]
    },
    {
      "cell_type": "code",
      "metadata": {
        "id": "URgalqDH0n2Y"
      },
      "source": [
        "from surprise.model_selection import GridSearchCV"
      ],
      "execution_count": null,
      "outputs": []
    },
    {
      "cell_type": "code",
      "metadata": {
        "id": "gquqDhcm49AM"
      },
      "source": [
        "#tuning the learning rate\n",
        "# set param grid for learning rate\n",
        "param_grid = {'n_epochs':[20, 50, 80],\n",
        "              'lr_all':[0.002, 0.005]}\n",
        "\n",
        "gs = GridSearchCV(SVD, param_grid, measures=['rmse', 'mae'], cv=2)\n",
        "gs.fit(data_surp)"
      ],
      "execution_count": null,
      "outputs": []
    },
    {
      "cell_type": "code",
      "metadata": {
        "colab": {
          "base_uri": "https://localhost:8080/"
        },
        "id": "C6whiuL059o1",
        "outputId": "ec2f82e2-76d7-468c-8aad-527a0edad1d1"
      },
      "source": [
        "# best RMSE score\n",
        "print(gs.best_score['rmse'])\n",
        "\n",
        "# best parameters that gave the best RMSE score\n",
        "print(gs.best_params['rmse'])"
      ],
      "execution_count": null,
      "outputs": [
        {
          "output_type": "stream",
          "text": [
            "3.461282842274363\n",
            "{'n_epochs': 20, 'lr_all': 0.002}\n"
          ],
          "name": "stdout"
        }
      ]
    },
    {
      "cell_type": "markdown",
      "metadata": {
        "id": "xOmjQMCTDRVN"
      },
      "source": [
        "Fine tuning did not help in any imrpovemnt."
      ]
    },
    {
      "cell_type": "markdown",
      "metadata": {
        "id": "MXDdyBpDDqvn"
      },
      "source": [
        "We can now fit the algorithm with best parameters on the whole data."
      ]
    },
    {
      "cell_type": "code",
      "metadata": {
        "colab": {
          "base_uri": "https://localhost:8080/"
        },
        "id": "ykovbOMN8DvH",
        "outputId": "19084f88-4483-4c60-efbb-26a972d829b2"
      },
      "source": [
        "# select the best algo\n",
        "algo = gs.best_estimator['rmse']\n",
        "algo.fit(data_surp.build_full_trainset())"
      ],
      "execution_count": null,
      "outputs": [
        {
          "output_type": "execute_result",
          "data": {
            "text/plain": [
              "<surprise.prediction_algorithms.matrix_factorization.SVD at 0x7fab3b72f5d0>"
            ]
          },
          "metadata": {
            "tags": []
          },
          "execution_count": 39
        }
      ]
    },
    {
      "cell_type": "markdown",
      "metadata": {
        "id": "TD1g251QD5jb"
      },
      "source": [
        "**Making Prediction**"
      ]
    },
    {
      "cell_type": "code",
      "metadata": {
        "colab": {
          "base_uri": "https://localhost:8080/"
        },
        "id": "ZGPK4lGV81xS",
        "outputId": "d3f95685-0e19-486f-9079-89895f2bb816"
      },
      "source": [
        "# get a prediction for specific users and items.\n",
        "uid = 276798\n",
        "iid = '3548603203'\n",
        "r_ui = 6\n",
        "pred = algo.predict(uid, iid, r_ui=r_ui, verbose=True)"
      ],
      "execution_count": null,
      "outputs": [
        {
          "output_type": "stream",
          "text": [
            "user: 276798     item: 3548603203 r_ui = 6.00   est = 3.06   {'was_impossible': False}\n"
          ],
          "name": "stdout"
        }
      ]
    },
    {
      "cell_type": "markdown",
      "metadata": {
        "id": "R9ks_XTtES67"
      },
      "source": [
        "We get the prediction for a product by a user, where 'r_ui' is th actual rating and 'est' is th predicted rating."
      ]
    },
    {
      "cell_type": "markdown",
      "metadata": {
        "id": "5s4ezs2fEr0i"
      },
      "source": [
        "Now, we can make predictions for ratings for the books that a user has not read and recommend top N books with the highest ratings."
      ]
    },
    {
      "cell_type": "code",
      "metadata": {
        "id": "i2sBCJHsEQ0h"
      },
      "source": [
        "# creating a function for recommendating\n",
        "def recommend_books(user_id, algo, N):\n",
        "  # select books that have been rated by the user\n",
        "  read_books = data[data.user==user_id]['isbn'].tolist()\n",
        "  # create a list of books that the user has not read\n",
        "  not_read_books = [book for book in data.isbn.unique() if book not in read_books]\n",
        "  pred_ratings = {}\n",
        "  for book in not_read_books:\n",
        "    pred = algo.predict(uid=user_id, iid=book)\n",
        "    # extract only the predicted rating\n",
        "    est_rating = pred.est\n",
        "    # add the predictions\n",
        "    pred_ratings.update({book:est_rating})\n",
        "\n",
        "  # sort accoriding to highest ratings\n",
        "  sorted_ratings = sorted(pred_ratings.items(), key=lambda item: item[1], reverse=True)[:N]\n",
        "\n",
        "  # if there are more than N books with rating of 10, take random N books with\n",
        "  # the rating of 10\n",
        "  n_books_10 = len({ key:value for (key,value) in sorted_ratings if value == 10})\n",
        "\n",
        "  if n_books_10 > N:\n",
        "    book_10_ratings = np.random.choice(sorted_ratings, N, replace=False)\n",
        "    book  = [bookMeta(info[0])[0] for info in book_10_ratings]\n",
        "    author = [bookMeta(info[0])[1] for info in book_10_ratings]\n",
        "  else:\n",
        "    book  = [bookMeta(info[0])[0] for info in sorted_ratings]\n",
        "    author = [bookMeta(info[0])[1] for info in sorted_ratings]\n",
        "\n",
        " \n",
        "  return pd.DataFrame({'Book':book, 'Author':author})"
      ],
      "execution_count": null,
      "outputs": []
    },
    {
      "cell_type": "code",
      "metadata": {
        "colab": {
          "base_uri": "https://localhost:8080/",
          "height": 355
        },
        "id": "rGtSt1R3EQxk",
        "outputId": "d55581ed-3b82-4240-cdc3-aebe7914419f"
      },
      "source": [
        "# print recommendation for a user\n",
        "user=276798\n",
        "recommend_books(user_id=user,algo=algo, N=10)"
      ],
      "execution_count": null,
      "outputs": [
        {
          "output_type": "execute_result",
          "data": {
            "text/html": [
              "<div>\n",
              "<style scoped>\n",
              "    .dataframe tbody tr th:only-of-type {\n",
              "        vertical-align: middle;\n",
              "    }\n",
              "\n",
              "    .dataframe tbody tr th {\n",
              "        vertical-align: top;\n",
              "    }\n",
              "\n",
              "    .dataframe thead th {\n",
              "        text-align: right;\n",
              "    }\n",
              "</style>\n",
              "<table border=\"1\" class=\"dataframe\">\n",
              "  <thead>\n",
              "    <tr style=\"text-align: right;\">\n",
              "      <th></th>\n",
              "      <th>Book</th>\n",
              "      <th>Author</th>\n",
              "    </tr>\n",
              "  </thead>\n",
              "  <tbody>\n",
              "    <tr>\n",
              "      <th>0</th>\n",
              "      <td>Free</td>\n",
              "      <td>Paul Vincent</td>\n",
              "    </tr>\n",
              "    <tr>\n",
              "      <th>1</th>\n",
              "      <td>The Red Tent (Bestselling Backlist)</td>\n",
              "      <td>Anita Diamant</td>\n",
              "    </tr>\n",
              "    <tr>\n",
              "      <th>2</th>\n",
              "      <td>Ender's Game (Ender Wiggins Saga (Paperback))</td>\n",
              "      <td>Orson Scott Card</td>\n",
              "    </tr>\n",
              "    <tr>\n",
              "      <th>3</th>\n",
              "      <td>Harry Potter and the Chamber of Secrets Postca...</td>\n",
              "      <td>J. K. Rowling</td>\n",
              "    </tr>\n",
              "    <tr>\n",
              "      <th>4</th>\n",
              "      <td>Falling Up</td>\n",
              "      <td>Shel Silverstein</td>\n",
              "    </tr>\n",
              "    <tr>\n",
              "      <th>5</th>\n",
              "      <td>1984</td>\n",
              "      <td>George Orwell</td>\n",
              "    </tr>\n",
              "    <tr>\n",
              "      <th>6</th>\n",
              "      <td>The Godfather</td>\n",
              "      <td>Mario Puzo</td>\n",
              "    </tr>\n",
              "    <tr>\n",
              "      <th>7</th>\n",
              "      <td>Harry Potter and the Goblet of Fire (Book 4)</td>\n",
              "      <td>J. K. Rowling</td>\n",
              "    </tr>\n",
              "    <tr>\n",
              "      <th>8</th>\n",
              "      <td>The Pact: A Love Story</td>\n",
              "      <td>Jodi Picoult</td>\n",
              "    </tr>\n",
              "    <tr>\n",
              "      <th>9</th>\n",
              "      <td>Anne Frank: The Diary of a Young Girl</td>\n",
              "      <td>ANNE FRANK</td>\n",
              "    </tr>\n",
              "  </tbody>\n",
              "</table>\n",
              "</div>"
            ],
            "text/plain": [
              "                                                Book            Author\n",
              "0                                               Free      Paul Vincent\n",
              "1                The Red Tent (Bestselling Backlist)     Anita Diamant\n",
              "2      Ender's Game (Ender Wiggins Saga (Paperback))  Orson Scott Card\n",
              "3  Harry Potter and the Chamber of Secrets Postca...     J. K. Rowling\n",
              "4                                         Falling Up  Shel Silverstein\n",
              "5                                               1984     George Orwell\n",
              "6                                      The Godfather        Mario Puzo\n",
              "7       Harry Potter and the Goblet of Fire (Book 4)     J. K. Rowling\n",
              "8                             The Pact: A Love Story      Jodi Picoult\n",
              "9              Anne Frank: The Diary of a Young Girl        ANNE FRANK"
            ]
          },
          "metadata": {
            "tags": []
          },
          "execution_count": 45
        }
      ]
    },
    {
      "cell_type": "code",
      "metadata": {
        "id": "Ab-3CBBMRwm6"
      },
      "source": [
        ""
      ],
      "execution_count": null,
      "outputs": []
    }
  ]
}